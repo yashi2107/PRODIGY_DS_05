{
 "cells": [
  {
   "cell_type": "code",
   "execution_count": 1,
   "id": "ef6a8a60",
   "metadata": {
    "id": "lAWlIP3zvia0",
    "papermill": {
     "duration": 1.145898,
     "end_time": "2024-01-27T18:54:16.561506",
     "exception": false,
     "start_time": "2024-01-27T18:54:15.415608",
     "status": "completed"
    },
    "tags": []
   },
   "outputs": [],
   "source": [
    "import pandas as pd\n",
    "import matplotlib.pyplot as plt\n",
    "import numpy as np"
   ]
  },
  {
   "cell_type": "code",
   "execution_count": 2,
   "id": "aeb98384",
   "metadata": {
    "id": "UD7KVG55viUC",
    "papermill": {
     "duration": 158.389942,
     "end_time": "2024-01-27T18:56:54.974526",
     "exception": false,
     "start_time": "2024-01-27T18:54:16.584584",
     "status": "completed"
    },
    "tags": []
   },
   "outputs": [],
   "source": [
    "df = pd.read_csv(\"US_Accidents.csv\")"
   ]
  },
  {
   "cell_type": "code",
   "execution_count": 3,
   "id": "6c0526d1",
   "metadata": {
    "id": "4aq8eQGr2icK",
    "papermill": {
     "duration": 5.017955,
     "end_time": "2024-01-27T18:57:00.018630",
     "exception": false,
     "start_time": "2024-01-27T18:56:55.000675",
     "status": "completed"
    },
    "tags": []
   },
   "outputs": [
    {
     "data": {
      "text/html": [
       "<div>\n",
       "<style scoped>\n",
       "    .dataframe tbody tr th:only-of-type {\n",
       "        vertical-align: middle;\n",
       "    }\n",
       "\n",
       "    .dataframe tbody tr th {\n",
       "        vertical-align: top;\n",
       "    }\n",
       "\n",
       "    .dataframe thead th {\n",
       "        text-align: right;\n",
       "    }\n",
       "</style>\n",
       "<table border=\"1\" class=\"dataframe\">\n",
       "  <thead>\n",
       "    <tr style=\"text-align: right;\">\n",
       "      <th></th>\n",
       "      <th>ID</th>\n",
       "      <th>Severity</th>\n",
       "      <th>Start_Time</th>\n",
       "      <th>End_Time</th>\n",
       "      <th>Start_Lat</th>\n",
       "      <th>Start_Lng</th>\n",
       "      <th>End_Lat</th>\n",
       "      <th>End_Lng</th>\n",
       "      <th>Distance(mi)</th>\n",
       "      <th>Description</th>\n",
       "      <th>...</th>\n",
       "      <th>Roundabout</th>\n",
       "      <th>Station</th>\n",
       "      <th>Stop</th>\n",
       "      <th>Traffic_Calming</th>\n",
       "      <th>Traffic_Signal</th>\n",
       "      <th>Turning_Loop</th>\n",
       "      <th>Sunrise_Sunset</th>\n",
       "      <th>Civil_Twilight</th>\n",
       "      <th>Nautical_Twilight</th>\n",
       "      <th>Astronomical_Twilight</th>\n",
       "    </tr>\n",
       "  </thead>\n",
       "  <tbody>\n",
       "    <tr>\n",
       "      <th>0</th>\n",
       "      <td>A-2716600</td>\n",
       "      <td>3</td>\n",
       "      <td>08-02-2016 00:37</td>\n",
       "      <td>08-02-2016 06:37</td>\n",
       "      <td>40.108910</td>\n",
       "      <td>-83.092860</td>\n",
       "      <td>40.112060</td>\n",
       "      <td>-83.031870</td>\n",
       "      <td>3.230</td>\n",
       "      <td>Between Sawmill Rd/Exit 20 and OH-315/Olentang...</td>\n",
       "      <td>...</td>\n",
       "      <td>False</td>\n",
       "      <td>False</td>\n",
       "      <td>False</td>\n",
       "      <td>False</td>\n",
       "      <td>False</td>\n",
       "      <td>False</td>\n",
       "      <td>Night</td>\n",
       "      <td>Night</td>\n",
       "      <td>Night</td>\n",
       "      <td>Night</td>\n",
       "    </tr>\n",
       "    <tr>\n",
       "      <th>1</th>\n",
       "      <td>A-2716601</td>\n",
       "      <td>2</td>\n",
       "      <td>08-02-2016 05:56</td>\n",
       "      <td>08-02-2016 11:56</td>\n",
       "      <td>39.865420</td>\n",
       "      <td>-84.062800</td>\n",
       "      <td>39.865010</td>\n",
       "      <td>-84.048730</td>\n",
       "      <td>0.747</td>\n",
       "      <td>At OH-4/OH-235/Exit 41 - Accident.</td>\n",
       "      <td>...</td>\n",
       "      <td>False</td>\n",
       "      <td>False</td>\n",
       "      <td>False</td>\n",
       "      <td>False</td>\n",
       "      <td>False</td>\n",
       "      <td>False</td>\n",
       "      <td>Night</td>\n",
       "      <td>Night</td>\n",
       "      <td>Night</td>\n",
       "      <td>Night</td>\n",
       "    </tr>\n",
       "    <tr>\n",
       "      <th>2</th>\n",
       "      <td>A-2716602</td>\n",
       "      <td>2</td>\n",
       "      <td>08-02-2016 06:15</td>\n",
       "      <td>08-02-2016 12:15</td>\n",
       "      <td>39.102660</td>\n",
       "      <td>-84.524680</td>\n",
       "      <td>39.102090</td>\n",
       "      <td>-84.523960</td>\n",
       "      <td>0.055</td>\n",
       "      <td>At I-71/US-50/Exit 1 - Accident.</td>\n",
       "      <td>...</td>\n",
       "      <td>False</td>\n",
       "      <td>False</td>\n",
       "      <td>False</td>\n",
       "      <td>False</td>\n",
       "      <td>False</td>\n",
       "      <td>False</td>\n",
       "      <td>Night</td>\n",
       "      <td>Night</td>\n",
       "      <td>Night</td>\n",
       "      <td>Day</td>\n",
       "    </tr>\n",
       "    <tr>\n",
       "      <th>3</th>\n",
       "      <td>A-2716603</td>\n",
       "      <td>2</td>\n",
       "      <td>08-02-2016 06:15</td>\n",
       "      <td>08-02-2016 12:15</td>\n",
       "      <td>39.101480</td>\n",
       "      <td>-84.523410</td>\n",
       "      <td>39.098410</td>\n",
       "      <td>-84.522410</td>\n",
       "      <td>0.219</td>\n",
       "      <td>At I-71/US-50/Exit 1 - Accident.</td>\n",
       "      <td>...</td>\n",
       "      <td>False</td>\n",
       "      <td>False</td>\n",
       "      <td>False</td>\n",
       "      <td>False</td>\n",
       "      <td>False</td>\n",
       "      <td>False</td>\n",
       "      <td>Night</td>\n",
       "      <td>Night</td>\n",
       "      <td>Night</td>\n",
       "      <td>Day</td>\n",
       "    </tr>\n",
       "    <tr>\n",
       "      <th>4</th>\n",
       "      <td>A-2716604</td>\n",
       "      <td>2</td>\n",
       "      <td>08-02-2016 06:51</td>\n",
       "      <td>08-02-2016 12:51</td>\n",
       "      <td>41.062130</td>\n",
       "      <td>-81.537840</td>\n",
       "      <td>41.062170</td>\n",
       "      <td>-81.535470</td>\n",
       "      <td>0.123</td>\n",
       "      <td>At Dart Ave/Exit 21 - Accident.</td>\n",
       "      <td>...</td>\n",
       "      <td>False</td>\n",
       "      <td>False</td>\n",
       "      <td>False</td>\n",
       "      <td>False</td>\n",
       "      <td>False</td>\n",
       "      <td>False</td>\n",
       "      <td>Night</td>\n",
       "      <td>Night</td>\n",
       "      <td>Day</td>\n",
       "      <td>Day</td>\n",
       "    </tr>\n",
       "    <tr>\n",
       "      <th>...</th>\n",
       "      <td>...</td>\n",
       "      <td>...</td>\n",
       "      <td>...</td>\n",
       "      <td>...</td>\n",
       "      <td>...</td>\n",
       "      <td>...</td>\n",
       "      <td>...</td>\n",
       "      <td>...</td>\n",
       "      <td>...</td>\n",
       "      <td>...</td>\n",
       "      <td>...</td>\n",
       "      <td>...</td>\n",
       "      <td>...</td>\n",
       "      <td>...</td>\n",
       "      <td>...</td>\n",
       "      <td>...</td>\n",
       "      <td>...</td>\n",
       "      <td>...</td>\n",
       "      <td>...</td>\n",
       "      <td>...</td>\n",
       "      <td>...</td>\n",
       "    </tr>\n",
       "    <tr>\n",
       "      <th>1048570</th>\n",
       "      <td>A-3771908</td>\n",
       "      <td>2</td>\n",
       "      <td>10-12-2019 17:05</td>\n",
       "      <td>10-12-2019 17:58</td>\n",
       "      <td>33.195825</td>\n",
       "      <td>-117.367005</td>\n",
       "      <td>33.195825</td>\n",
       "      <td>-117.367005</td>\n",
       "      <td>0.000</td>\n",
       "      <td>At Oceanside Blvd/Exit 52 - Accident.</td>\n",
       "      <td>...</td>\n",
       "      <td>False</td>\n",
       "      <td>False</td>\n",
       "      <td>False</td>\n",
       "      <td>False</td>\n",
       "      <td>False</td>\n",
       "      <td>False</td>\n",
       "      <td>Night</td>\n",
       "      <td>Day</td>\n",
       "      <td>Day</td>\n",
       "      <td>Day</td>\n",
       "    </tr>\n",
       "    <tr>\n",
       "      <th>1048571</th>\n",
       "      <td>A-3771909</td>\n",
       "      <td>2</td>\n",
       "      <td>10-12-2019 17:02</td>\n",
       "      <td>10-12-2019 18:33</td>\n",
       "      <td>33.901813</td>\n",
       "      <td>-117.466712</td>\n",
       "      <td>33.901813</td>\n",
       "      <td>-117.466712</td>\n",
       "      <td>0.000</td>\n",
       "      <td>At La Sierra Ave - Accident.</td>\n",
       "      <td>...</td>\n",
       "      <td>False</td>\n",
       "      <td>False</td>\n",
       "      <td>False</td>\n",
       "      <td>False</td>\n",
       "      <td>False</td>\n",
       "      <td>False</td>\n",
       "      <td>Night</td>\n",
       "      <td>Day</td>\n",
       "      <td>Day</td>\n",
       "      <td>Day</td>\n",
       "    </tr>\n",
       "    <tr>\n",
       "      <th>1048572</th>\n",
       "      <td>A-3771910</td>\n",
       "      <td>2</td>\n",
       "      <td>10-12-2019 17:11</td>\n",
       "      <td>10-12-2019 18:24</td>\n",
       "      <td>33.651594</td>\n",
       "      <td>-117.761153</td>\n",
       "      <td>33.651594</td>\n",
       "      <td>-117.761153</td>\n",
       "      <td>0.000</td>\n",
       "      <td>At CA-133/Laguna Fwy/Exit 2 - Accident.</td>\n",
       "      <td>...</td>\n",
       "      <td>False</td>\n",
       "      <td>False</td>\n",
       "      <td>False</td>\n",
       "      <td>False</td>\n",
       "      <td>False</td>\n",
       "      <td>False</td>\n",
       "      <td>Night</td>\n",
       "      <td>Night</td>\n",
       "      <td>Day</td>\n",
       "      <td>Day</td>\n",
       "    </tr>\n",
       "    <tr>\n",
       "      <th>1048573</th>\n",
       "      <td>A-3771911</td>\n",
       "      <td>2</td>\n",
       "      <td>10-12-2019 17:04</td>\n",
       "      <td>10-12-2019 20:19</td>\n",
       "      <td>35.419703</td>\n",
       "      <td>-119.012848</td>\n",
       "      <td>35.419703</td>\n",
       "      <td>-119.012848</td>\n",
       "      <td>0.000</td>\n",
       "      <td>At E Roberts Ln - Accident.</td>\n",
       "      <td>...</td>\n",
       "      <td>False</td>\n",
       "      <td>False</td>\n",
       "      <td>False</td>\n",
       "      <td>False</td>\n",
       "      <td>True</td>\n",
       "      <td>False</td>\n",
       "      <td>Night</td>\n",
       "      <td>Day</td>\n",
       "      <td>Day</td>\n",
       "      <td>Day</td>\n",
       "    </tr>\n",
       "    <tr>\n",
       "      <th>1048574</th>\n",
       "      <td>A-3771912</td>\n",
       "      <td>2</td>\n",
       "      <td>10-12-2019 17:02</td>\n",
       "      <td>10-12-2019 18:04</td>\n",
       "      <td>33.806080</td>\n",
       "      <td>-117.880100</td>\n",
       "      <td>33.806080</td>\n",
       "      <td>-117.880100</td>\n",
       "      <td>0.000</td>\n",
       "      <td>At CA-57/Orange Fwy - Accident.</td>\n",
       "      <td>...</td>\n",
       "      <td>False</td>\n",
       "      <td>False</td>\n",
       "      <td>False</td>\n",
       "      <td>False</td>\n",
       "      <td>False</td>\n",
       "      <td>False</td>\n",
       "      <td>Night</td>\n",
       "      <td>Day</td>\n",
       "      <td>Day</td>\n",
       "      <td>Day</td>\n",
       "    </tr>\n",
       "  </tbody>\n",
       "</table>\n",
       "<p>1048575 rows × 47 columns</p>\n",
       "</div>"
      ],
      "text/plain": [
       "                ID  Severity        Start_Time          End_Time  Start_Lat  \\\n",
       "0        A-2716600         3  08-02-2016 00:37  08-02-2016 06:37  40.108910   \n",
       "1        A-2716601         2  08-02-2016 05:56  08-02-2016 11:56  39.865420   \n",
       "2        A-2716602         2  08-02-2016 06:15  08-02-2016 12:15  39.102660   \n",
       "3        A-2716603         2  08-02-2016 06:15  08-02-2016 12:15  39.101480   \n",
       "4        A-2716604         2  08-02-2016 06:51  08-02-2016 12:51  41.062130   \n",
       "...            ...       ...               ...               ...        ...   \n",
       "1048570  A-3771908         2  10-12-2019 17:05  10-12-2019 17:58  33.195825   \n",
       "1048571  A-3771909         2  10-12-2019 17:02  10-12-2019 18:33  33.901813   \n",
       "1048572  A-3771910         2  10-12-2019 17:11  10-12-2019 18:24  33.651594   \n",
       "1048573  A-3771911         2  10-12-2019 17:04  10-12-2019 20:19  35.419703   \n",
       "1048574  A-3771912         2  10-12-2019 17:02  10-12-2019 18:04  33.806080   \n",
       "\n",
       "          Start_Lng    End_Lat     End_Lng  Distance(mi)  \\\n",
       "0        -83.092860  40.112060  -83.031870         3.230   \n",
       "1        -84.062800  39.865010  -84.048730         0.747   \n",
       "2        -84.524680  39.102090  -84.523960         0.055   \n",
       "3        -84.523410  39.098410  -84.522410         0.219   \n",
       "4        -81.537840  41.062170  -81.535470         0.123   \n",
       "...             ...        ...         ...           ...   \n",
       "1048570 -117.367005  33.195825 -117.367005         0.000   \n",
       "1048571 -117.466712  33.901813 -117.466712         0.000   \n",
       "1048572 -117.761153  33.651594 -117.761153         0.000   \n",
       "1048573 -119.012848  35.419703 -119.012848         0.000   \n",
       "1048574 -117.880100  33.806080 -117.880100         0.000   \n",
       "\n",
       "                                               Description  ...  Roundabout  \\\n",
       "0        Between Sawmill Rd/Exit 20 and OH-315/Olentang...  ...       False   \n",
       "1                       At OH-4/OH-235/Exit 41 - Accident.  ...       False   \n",
       "2                         At I-71/US-50/Exit 1 - Accident.  ...       False   \n",
       "3                         At I-71/US-50/Exit 1 - Accident.  ...       False   \n",
       "4                          At Dart Ave/Exit 21 - Accident.  ...       False   \n",
       "...                                                    ...  ...         ...   \n",
       "1048570              At Oceanside Blvd/Exit 52 - Accident.  ...       False   \n",
       "1048571                       At La Sierra Ave - Accident.  ...       False   \n",
       "1048572            At CA-133/Laguna Fwy/Exit 2 - Accident.  ...       False   \n",
       "1048573                        At E Roberts Ln - Accident.  ...       False   \n",
       "1048574                    At CA-57/Orange Fwy - Accident.  ...       False   \n",
       "\n",
       "        Station   Stop Traffic_Calming Traffic_Signal Turning_Loop  \\\n",
       "0         False  False           False          False        False   \n",
       "1         False  False           False          False        False   \n",
       "2         False  False           False          False        False   \n",
       "3         False  False           False          False        False   \n",
       "4         False  False           False          False        False   \n",
       "...         ...    ...             ...            ...          ...   \n",
       "1048570   False  False           False          False        False   \n",
       "1048571   False  False           False          False        False   \n",
       "1048572   False  False           False          False        False   \n",
       "1048573   False  False           False           True        False   \n",
       "1048574   False  False           False          False        False   \n",
       "\n",
       "        Sunrise_Sunset Civil_Twilight Nautical_Twilight Astronomical_Twilight  \n",
       "0                Night          Night             Night                 Night  \n",
       "1                Night          Night             Night                 Night  \n",
       "2                Night          Night             Night                   Day  \n",
       "3                Night          Night             Night                   Day  \n",
       "4                Night          Night               Day                   Day  \n",
       "...                ...            ...               ...                   ...  \n",
       "1048570          Night            Day               Day                   Day  \n",
       "1048571          Night            Day               Day                   Day  \n",
       "1048572          Night          Night               Day                   Day  \n",
       "1048573          Night            Day               Day                   Day  \n",
       "1048574          Night            Day               Day                   Day  \n",
       "\n",
       "[1048575 rows x 47 columns]"
      ]
     },
     "execution_count": 3,
     "metadata": {},
     "output_type": "execute_result"
    }
   ],
   "source": [
    "df"
   ]
  },
  {
   "cell_type": "code",
   "execution_count": 4,
   "id": "6dd78d34",
   "metadata": {
    "id": "ISNrygS52iVB",
    "papermill": {
     "duration": 0.038873,
     "end_time": "2024-01-27T18:57:00.081748",
     "exception": false,
     "start_time": "2024-01-27T18:57:00.042875",
     "status": "completed"
    },
    "tags": []
   },
   "outputs": [
    {
     "data": {
      "text/plain": [
       "Index(['ID', 'Severity', 'Start_Time', 'End_Time', 'Start_Lat', 'Start_Lng',\n",
       "       'End_Lat', 'End_Lng', 'Distance(mi)', 'Description', 'Number', 'Street',\n",
       "       'Side', 'City', 'County', 'State', 'Zipcode', 'Country', 'Timezone',\n",
       "       'Airport_Code', 'Weather_Timestamp', 'Temperature(F)', 'Wind_Chill(F)',\n",
       "       'Humidity(%)', 'Pressure(in)', 'Visibility(mi)', 'Wind_Direction',\n",
       "       'Wind_Speed(mph)', 'Precipitation(in)', 'Weather_Condition', 'Amenity',\n",
       "       'Bump', 'Crossing', 'Give_Way', 'Junction', 'No_Exit', 'Railway',\n",
       "       'Roundabout', 'Station', 'Stop', 'Traffic_Calming', 'Traffic_Signal',\n",
       "       'Turning_Loop', 'Sunrise_Sunset', 'Civil_Twilight', 'Nautical_Twilight',\n",
       "       'Astronomical_Twilight'],\n",
       "      dtype='object')"
      ]
     },
     "execution_count": 4,
     "metadata": {},
     "output_type": "execute_result"
    }
   ],
   "source": [
    "df.columns"
   ]
  },
  {
   "cell_type": "markdown",
   "id": "c6f4ed0a",
   "metadata": {
    "papermill": {
     "duration": 0.023687,
     "end_time": "2024-01-27T18:57:00.129779",
     "exception": false,
     "start_time": "2024-01-27T18:57:00.106092",
     "status": "completed"
    },
    "tags": []
   },
   "source": [
    "### Checking the Length of Number of Columns"
   ]
  },
  {
   "cell_type": "code",
   "execution_count": 6,
   "id": "3c024d11",
   "metadata": {
    "id": "z9tNkuNe2iMN",
    "papermill": {
     "duration": 0.036429,
     "end_time": "2024-01-27T18:57:00.190314",
     "exception": false,
     "start_time": "2024-01-27T18:57:00.153885",
     "status": "completed"
    },
    "tags": []
   },
   "outputs": [
    {
     "data": {
      "text/plain": [
       "47"
      ]
     },
     "execution_count": 6,
     "metadata": {},
     "output_type": "execute_result"
    }
   ],
   "source": [
    "len(df.columns)"
   ]
  },
  {
   "cell_type": "markdown",
   "id": "ef0fb494",
   "metadata": {
    "papermill": {
     "duration": 0.026449,
     "end_time": "2024-01-27T18:57:00.241487",
     "exception": false,
     "start_time": "2024-01-27T18:57:00.215038",
     "status": "completed"
    },
    "tags": []
   },
   "source": [
    "### Checking the length of Number of rows"
   ]
  },
  {
   "cell_type": "code",
   "execution_count": 8,
   "id": "29846535",
   "metadata": {
    "papermill": {
     "duration": 0.036271,
     "end_time": "2024-01-27T18:57:00.301787",
     "exception": false,
     "start_time": "2024-01-27T18:57:00.265516",
     "status": "completed"
    },
    "tags": []
   },
   "outputs": [
    {
     "data": {
      "text/plain": [
       "1048575"
      ]
     },
     "execution_count": 8,
     "metadata": {},
     "output_type": "execute_result"
    }
   ],
   "source": [
    "len(df)"
   ]
  },
  {
   "cell_type": "markdown",
   "id": "861c4d67",
   "metadata": {
    "papermill": {
     "duration": 0.024035,
     "end_time": "2024-01-27T18:57:00.350648",
     "exception": false,
     "start_time": "2024-01-27T18:57:00.326613",
     "status": "completed"
    },
    "tags": []
   },
   "source": [
    "An Easier way to look data"
   ]
  },
  {
   "cell_type": "code",
   "execution_count": 10,
   "id": "a785fbb2",
   "metadata": {
    "papermill": {
     "duration": 0.058178,
     "end_time": "2024-01-27T18:57:00.433141",
     "exception": false,
     "start_time": "2024-01-27T18:57:00.374963",
     "status": "completed"
    },
    "tags": []
   },
   "outputs": [
    {
     "name": "stdout",
     "output_type": "stream",
     "text": [
      "<class 'pandas.core.frame.DataFrame'>\n",
      "RangeIndex: 1048575 entries, 0 to 1048574\n",
      "Data columns (total 47 columns):\n",
      " #   Column                 Non-Null Count    Dtype  \n",
      "---  ------                 --------------    -----  \n",
      " 0   ID                     1048575 non-null  object \n",
      " 1   Severity               1048575 non-null  int64  \n",
      " 2   Start_Time             1048575 non-null  object \n",
      " 3   End_Time               1048575 non-null  object \n",
      " 4   Start_Lat              1048575 non-null  float64\n",
      " 5   Start_Lng              1048575 non-null  float64\n",
      " 6   End_Lat                1048575 non-null  float64\n",
      " 7   End_Lng                1048575 non-null  float64\n",
      " 8   Distance(mi)           1048575 non-null  float64\n",
      " 9   Description            1048575 non-null  object \n",
      " 10  Number                 360065 non-null   float64\n",
      " 11  Street                 1048575 non-null  object \n",
      " 12  Side                   1048575 non-null  object \n",
      " 13  City                   1048506 non-null  object \n",
      " 14  County                 1048575 non-null  object \n",
      " 15  State                  1048575 non-null  object \n",
      " 16  Zipcode                1048086 non-null  object \n",
      " 17  Country                1048575 non-null  object \n",
      " 18  Timezone               1047421 non-null  object \n",
      " 19  Airport_Code           1045917 non-null  object \n",
      " 20  Weather_Timestamp      1026460 non-null  object \n",
      " 21  Temperature(F)         1017832 non-null  float64\n",
      " 22  Wind_Chill(F)          813974 non-null   float64\n",
      " 23  Humidity(%)            1015803 non-null  float64\n",
      " 24  Pressure(in)           1023115 non-null  float64\n",
      " 25  Visibility(mi)         1017760 non-null  float64\n",
      " 26  Wind_Direction         1017532 non-null  object \n",
      " 27  Wind_Speed(mph)        980665 non-null   float64\n",
      " 28  Precipitation(in)      789334 non-null   float64\n",
      " 29  Weather_Condition      1018315 non-null  object \n",
      " 30  Amenity                1048575 non-null  bool   \n",
      " 31  Bump                   1048575 non-null  bool   \n",
      " 32  Crossing               1048575 non-null  bool   \n",
      " 33  Give_Way               1048575 non-null  bool   \n",
      " 34  Junction               1048575 non-null  bool   \n",
      " 35  No_Exit                1048575 non-null  bool   \n",
      " 36  Railway                1048575 non-null  bool   \n",
      " 37  Roundabout             1048575 non-null  bool   \n",
      " 38  Station                1048575 non-null  bool   \n",
      " 39  Stop                   1048575 non-null  bool   \n",
      " 40  Traffic_Calming        1048575 non-null  bool   \n",
      " 41  Traffic_Signal         1048575 non-null  bool   \n",
      " 42  Turning_Loop           1048575 non-null  bool   \n",
      " 43  Sunrise_Sunset         1048506 non-null  object \n",
      " 44  Civil_Twilight         1048506 non-null  object \n",
      " 45  Nautical_Twilight      1048506 non-null  object \n",
      " 46  Astronomical_Twilight  1048506 non-null  object \n",
      "dtypes: bool(13), float64(13), int64(1), object(20)\n",
      "memory usage: 285.0+ MB\n"
     ]
    }
   ],
   "source": [
    "df.info()"
   ]
  },
  {
   "cell_type": "code",
   "execution_count": 11,
   "id": "e9f05cab",
   "metadata": {
    "papermill": {
     "duration": 8.905553,
     "end_time": "2024-01-27T18:57:09.364466",
     "exception": false,
     "start_time": "2024-01-27T18:57:00.458913",
     "status": "completed"
    },
    "tags": []
   },
   "outputs": [
    {
     "data": {
      "text/html": [
       "<div>\n",
       "<style scoped>\n",
       "    .dataframe tbody tr th:only-of-type {\n",
       "        vertical-align: middle;\n",
       "    }\n",
       "\n",
       "    .dataframe tbody tr th {\n",
       "        vertical-align: top;\n",
       "    }\n",
       "\n",
       "    .dataframe thead th {\n",
       "        text-align: right;\n",
       "    }\n",
       "</style>\n",
       "<table border=\"1\" class=\"dataframe\">\n",
       "  <thead>\n",
       "    <tr style=\"text-align: right;\">\n",
       "      <th></th>\n",
       "      <th>Severity</th>\n",
       "      <th>Start_Lat</th>\n",
       "      <th>Start_Lng</th>\n",
       "      <th>End_Lat</th>\n",
       "      <th>End_Lng</th>\n",
       "      <th>Distance(mi)</th>\n",
       "      <th>Number</th>\n",
       "      <th>Temperature(F)</th>\n",
       "      <th>Wind_Chill(F)</th>\n",
       "      <th>Humidity(%)</th>\n",
       "      <th>Pressure(in)</th>\n",
       "      <th>Visibility(mi)</th>\n",
       "      <th>Wind_Speed(mph)</th>\n",
       "      <th>Precipitation(in)</th>\n",
       "    </tr>\n",
       "  </thead>\n",
       "  <tbody>\n",
       "    <tr>\n",
       "      <th>count</th>\n",
       "      <td>1.048575e+06</td>\n",
       "      <td>1.048575e+06</td>\n",
       "      <td>1.048575e+06</td>\n",
       "      <td>1.048575e+06</td>\n",
       "      <td>1.048575e+06</td>\n",
       "      <td>1.048575e+06</td>\n",
       "      <td>360065.000000</td>\n",
       "      <td>1.017832e+06</td>\n",
       "      <td>813974.000000</td>\n",
       "      <td>1.015803e+06</td>\n",
       "      <td>1.023115e+06</td>\n",
       "      <td>1.017760e+06</td>\n",
       "      <td>980665.000000</td>\n",
       "      <td>789334.000000</td>\n",
       "    </tr>\n",
       "    <tr>\n",
       "      <th>mean</th>\n",
       "      <td>2.164623e+00</td>\n",
       "      <td>3.646292e+01</td>\n",
       "      <td>-9.720202e+01</td>\n",
       "      <td>3.646305e+01</td>\n",
       "      <td>-9.720181e+01</td>\n",
       "      <td>5.867531e-01</td>\n",
       "      <td>7869.769653</td>\n",
       "      <td>5.915797e+01</td>\n",
       "      <td>55.283185</td>\n",
       "      <td>6.553987e+01</td>\n",
       "      <td>2.951557e+01</td>\n",
       "      <td>9.098803e+00</td>\n",
       "      <td>7.464395</td>\n",
       "      <td>0.007445</td>\n",
       "    </tr>\n",
       "    <tr>\n",
       "      <th>std</th>\n",
       "      <td>5.460908e-01</td>\n",
       "      <td>5.165882e+00</td>\n",
       "      <td>1.831984e+01</td>\n",
       "      <td>5.165957e+00</td>\n",
       "      <td>1.831963e+01</td>\n",
       "      <td>1.601684e+00</td>\n",
       "      <td>15619.751306</td>\n",
       "      <td>1.778244e+01</td>\n",
       "      <td>20.048839</td>\n",
       "      <td>2.298438e+01</td>\n",
       "      <td>9.907375e-01</td>\n",
       "      <td>2.718757e+00</td>\n",
       "      <td>5.810570</td>\n",
       "      <td>0.114932</td>\n",
       "    </tr>\n",
       "    <tr>\n",
       "      <th>min</th>\n",
       "      <td>1.000000e+00</td>\n",
       "      <td>2.457058e+01</td>\n",
       "      <td>-1.244975e+02</td>\n",
       "      <td>2.457433e+01</td>\n",
       "      <td>-1.244975e+02</td>\n",
       "      <td>0.000000e+00</td>\n",
       "      <td>1.000000</td>\n",
       "      <td>-8.900000e+01</td>\n",
       "      <td>-89.000000</td>\n",
       "      <td>2.000000e+00</td>\n",
       "      <td>2.000000e-02</td>\n",
       "      <td>0.000000e+00</td>\n",
       "      <td>0.000000</td>\n",
       "      <td>0.000000</td>\n",
       "    </tr>\n",
       "    <tr>\n",
       "      <th>25%</th>\n",
       "      <td>2.000000e+00</td>\n",
       "      <td>3.371034e+01</td>\n",
       "      <td>-1.180358e+02</td>\n",
       "      <td>3.371188e+01</td>\n",
       "      <td>-1.180361e+02</td>\n",
       "      <td>0.000000e+00</td>\n",
       "      <td>1175.000000</td>\n",
       "      <td>4.700000e+01</td>\n",
       "      <td>42.000000</td>\n",
       "      <td>4.900000e+01</td>\n",
       "      <td>2.934000e+01</td>\n",
       "      <td>1.000000e+01</td>\n",
       "      <td>3.500000</td>\n",
       "      <td>0.000000</td>\n",
       "    </tr>\n",
       "    <tr>\n",
       "      <th>50%</th>\n",
       "      <td>2.000000e+00</td>\n",
       "      <td>3.635720e+01</td>\n",
       "      <td>-9.292586e+01</td>\n",
       "      <td>3.635665e+01</td>\n",
       "      <td>-9.292828e+01</td>\n",
       "      <td>1.380000e-01</td>\n",
       "      <td>3771.000000</td>\n",
       "      <td>6.000000e+01</td>\n",
       "      <td>57.000000</td>\n",
       "      <td>6.900000e+01</td>\n",
       "      <td>2.985000e+01</td>\n",
       "      <td>1.000000e+01</td>\n",
       "      <td>7.000000</td>\n",
       "      <td>0.000000</td>\n",
       "    </tr>\n",
       "    <tr>\n",
       "      <th>75%</th>\n",
       "      <td>2.000000e+00</td>\n",
       "      <td>4.023489e+01</td>\n",
       "      <td>-8.038426e+01</td>\n",
       "      <td>4.023471e+01</td>\n",
       "      <td>-8.038469e+01</td>\n",
       "      <td>5.910000e-01</td>\n",
       "      <td>9229.000000</td>\n",
       "      <td>7.300000e+01</td>\n",
       "      <td>70.000000</td>\n",
       "      <td>8.500000e+01</td>\n",
       "      <td>3.002000e+01</td>\n",
       "      <td>1.000000e+01</td>\n",
       "      <td>10.400000</td>\n",
       "      <td>0.000000</td>\n",
       "    </tr>\n",
       "    <tr>\n",
       "      <th>max</th>\n",
       "      <td>4.000000e+00</td>\n",
       "      <td>4.900058e+01</td>\n",
       "      <td>-6.711317e+01</td>\n",
       "      <td>4.907500e+01</td>\n",
       "      <td>-6.710924e+01</td>\n",
       "      <td>1.551860e+02</td>\n",
       "      <td>961005.000000</td>\n",
       "      <td>1.292000e+02</td>\n",
       "      <td>113.000000</td>\n",
       "      <td>1.000000e+02</td>\n",
       "      <td>5.804000e+01</td>\n",
       "      <td>1.200000e+02</td>\n",
       "      <td>984.000000</td>\n",
       "      <td>24.000000</td>\n",
       "    </tr>\n",
       "  </tbody>\n",
       "</table>\n",
       "</div>"
      ],
      "text/plain": [
       "           Severity     Start_Lat     Start_Lng       End_Lat       End_Lng  \\\n",
       "count  1.048575e+06  1.048575e+06  1.048575e+06  1.048575e+06  1.048575e+06   \n",
       "mean   2.164623e+00  3.646292e+01 -9.720202e+01  3.646305e+01 -9.720181e+01   \n",
       "std    5.460908e-01  5.165882e+00  1.831984e+01  5.165957e+00  1.831963e+01   \n",
       "min    1.000000e+00  2.457058e+01 -1.244975e+02  2.457433e+01 -1.244975e+02   \n",
       "25%    2.000000e+00  3.371034e+01 -1.180358e+02  3.371188e+01 -1.180361e+02   \n",
       "50%    2.000000e+00  3.635720e+01 -9.292586e+01  3.635665e+01 -9.292828e+01   \n",
       "75%    2.000000e+00  4.023489e+01 -8.038426e+01  4.023471e+01 -8.038469e+01   \n",
       "max    4.000000e+00  4.900058e+01 -6.711317e+01  4.907500e+01 -6.710924e+01   \n",
       "\n",
       "       Distance(mi)         Number  Temperature(F)  Wind_Chill(F)  \\\n",
       "count  1.048575e+06  360065.000000    1.017832e+06  813974.000000   \n",
       "mean   5.867531e-01    7869.769653    5.915797e+01      55.283185   \n",
       "std    1.601684e+00   15619.751306    1.778244e+01      20.048839   \n",
       "min    0.000000e+00       1.000000   -8.900000e+01     -89.000000   \n",
       "25%    0.000000e+00    1175.000000    4.700000e+01      42.000000   \n",
       "50%    1.380000e-01    3771.000000    6.000000e+01      57.000000   \n",
       "75%    5.910000e-01    9229.000000    7.300000e+01      70.000000   \n",
       "max    1.551860e+02  961005.000000    1.292000e+02     113.000000   \n",
       "\n",
       "        Humidity(%)  Pressure(in)  Visibility(mi)  Wind_Speed(mph)  \\\n",
       "count  1.015803e+06  1.023115e+06    1.017760e+06    980665.000000   \n",
       "mean   6.553987e+01  2.951557e+01    9.098803e+00         7.464395   \n",
       "std    2.298438e+01  9.907375e-01    2.718757e+00         5.810570   \n",
       "min    2.000000e+00  2.000000e-02    0.000000e+00         0.000000   \n",
       "25%    4.900000e+01  2.934000e+01    1.000000e+01         3.500000   \n",
       "50%    6.900000e+01  2.985000e+01    1.000000e+01         7.000000   \n",
       "75%    8.500000e+01  3.002000e+01    1.000000e+01        10.400000   \n",
       "max    1.000000e+02  5.804000e+01    1.200000e+02       984.000000   \n",
       "\n",
       "       Precipitation(in)  \n",
       "count      789334.000000  \n",
       "mean            0.007445  \n",
       "std             0.114932  \n",
       "min             0.000000  \n",
       "25%             0.000000  \n",
       "50%             0.000000  \n",
       "75%             0.000000  \n",
       "max            24.000000  "
      ]
     },
     "execution_count": 11,
     "metadata": {},
     "output_type": "execute_result"
    }
   ],
   "source": [
    "df.describe()"
   ]
  },
  {
   "cell_type": "markdown",
   "id": "a54fbf72",
   "metadata": {
    "papermill": {
     "duration": 0.085409,
     "end_time": "2024-01-27T18:57:09.533597",
     "exception": false,
     "start_time": "2024-01-27T18:57:09.448188",
     "status": "completed"
    },
    "tags": []
   },
   "source": [
    "##### An Easy way to check the number of numeric columns in our data"
   ]
  },
  {
   "cell_type": "code",
   "execution_count": 13,
   "id": "f3d47405",
   "metadata": {
    "papermill": {
     "duration": 0.949293,
     "end_time": "2024-01-27T18:57:10.547091",
     "exception": false,
     "start_time": "2024-01-27T18:57:09.597798",
     "status": "completed"
    },
    "tags": []
   },
   "outputs": [
    {
     "data": {
      "text/plain": [
       "14"
      ]
     },
     "execution_count": 13,
     "metadata": {},
     "output_type": "execute_result"
    }
   ],
   "source": [
    "numerics = ['int16', 'int32', 'int64', 'float16', 'float32', 'float64']\n",
    "\n",
    "numeric_df = df.select_dtypes(include=numerics)\n",
    "len(numeric_df.columns)"
   ]
  },
  {
   "cell_type": "markdown",
   "id": "92f94879",
   "metadata": {
    "papermill": {
     "duration": 0.07553,
     "end_time": "2024-01-27T18:57:10.718882",
     "exception": false,
     "start_time": "2024-01-27T18:57:10.643352",
     "status": "completed"
    },
    "tags": []
   },
   "source": [
    "Check the number of null values per column"
   ]
  },
  {
   "cell_type": "code",
   "execution_count": 15,
   "id": "e34893dd",
   "metadata": {
    "papermill": {
     "duration": 21.085029,
     "end_time": "2024-01-27T18:57:31.898465",
     "exception": false,
     "start_time": "2024-01-27T18:57:10.813436",
     "status": "completed"
    },
    "tags": []
   },
   "outputs": [
    {
     "data": {
      "text/plain": [
       "ID                            0\n",
       "Severity                      0\n",
       "Start_Time                    0\n",
       "End_Time                      0\n",
       "Start_Lat                     0\n",
       "Start_Lng                     0\n",
       "End_Lat                       0\n",
       "End_Lng                       0\n",
       "Distance(mi)                  0\n",
       "Description                   0\n",
       "Number                   688510\n",
       "Street                        0\n",
       "Side                          0\n",
       "City                         69\n",
       "County                        0\n",
       "State                         0\n",
       "Zipcode                     489\n",
       "Country                       0\n",
       "Timezone                   1154\n",
       "Airport_Code               2658\n",
       "Weather_Timestamp         22115\n",
       "Temperature(F)            30743\n",
       "Wind_Chill(F)            234601\n",
       "Humidity(%)               32772\n",
       "Pressure(in)              25460\n",
       "Visibility(mi)            30815\n",
       "Wind_Direction            31043\n",
       "Wind_Speed(mph)           67910\n",
       "Precipitation(in)        259241\n",
       "Weather_Condition         30260\n",
       "Amenity                       0\n",
       "Bump                          0\n",
       "Crossing                      0\n",
       "Give_Way                      0\n",
       "Junction                      0\n",
       "No_Exit                       0\n",
       "Railway                       0\n",
       "Roundabout                    0\n",
       "Station                       0\n",
       "Stop                          0\n",
       "Traffic_Calming               0\n",
       "Traffic_Signal                0\n",
       "Turning_Loop                  0\n",
       "Sunrise_Sunset               69\n",
       "Civil_Twilight               69\n",
       "Nautical_Twilight            69\n",
       "Astronomical_Twilight        69\n",
       "dtype: int64"
      ]
     },
     "execution_count": 15,
     "metadata": {},
     "output_type": "execute_result"
    }
   ],
   "source": [
    "df.isna().sum()"
   ]
  },
  {
   "cell_type": "markdown",
   "id": "05d68170",
   "metadata": {
    "papermill": {
     "duration": 0.025592,
     "end_time": "2024-01-27T18:57:31.954487",
     "exception": false,
     "start_time": "2024-01-27T18:57:31.928895",
     "status": "completed"
    },
    "tags": []
   },
   "source": [
    "Percentage of missing values per column"
   ]
  },
  {
   "cell_type": "code",
   "execution_count": 17,
   "id": "cb9b3cc6",
   "metadata": {
    "papermill": {
     "duration": 16.393491,
     "end_time": "2024-01-27T18:57:48.374551",
     "exception": false,
     "start_time": "2024-01-27T18:57:31.981060",
     "status": "completed"
    },
    "tags": []
   },
   "outputs": [
    {
     "data": {
      "text/plain": [
       "Number                   65.661493\n",
       "Precipitation(in)        24.723172\n",
       "Wind_Chill(F)            22.373316\n",
       "Wind_Speed(mph)           6.476408\n",
       "Humidity(%)               3.125384\n",
       "Wind_Direction            2.960494\n",
       "Visibility(mi)            2.938750\n",
       "Temperature(F)            2.931884\n",
       "Weather_Condition         2.885821\n",
       "Pressure(in)              2.428057\n",
       "Weather_Timestamp         2.109053\n",
       "Airport_Code              0.253487\n",
       "Timezone                  0.110054\n",
       "Zipcode                   0.046635\n",
       "Sunrise_Sunset            0.006580\n",
       "Civil_Twilight            0.006580\n",
       "Nautical_Twilight         0.006580\n",
       "Astronomical_Twilight     0.006580\n",
       "City                      0.006580\n",
       "Country                   0.000000\n",
       "Give_Way                  0.000000\n",
       "Start_Time                0.000000\n",
       "End_Time                  0.000000\n",
       "Start_Lat                 0.000000\n",
       "Turning_Loop              0.000000\n",
       "Traffic_Signal            0.000000\n",
       "Traffic_Calming           0.000000\n",
       "Stop                      0.000000\n",
       "Station                   0.000000\n",
       "Roundabout                0.000000\n",
       "Railway                   0.000000\n",
       "No_Exit                   0.000000\n",
       "Junction                  0.000000\n",
       "Crossing                  0.000000\n",
       "State                     0.000000\n",
       "Bump                      0.000000\n",
       "Amenity                   0.000000\n",
       "Start_Lng                 0.000000\n",
       "End_Lat                   0.000000\n",
       "End_Lng                   0.000000\n",
       "Distance(mi)              0.000000\n",
       "Description               0.000000\n",
       "Street                    0.000000\n",
       "Severity                  0.000000\n",
       "Side                      0.000000\n",
       "County                    0.000000\n",
       "ID                        0.000000\n",
       "dtype: float64"
      ]
     },
     "execution_count": 17,
     "metadata": {},
     "output_type": "execute_result"
    }
   ],
   "source": [
    "missing_percentage = df.isna().sum().sort_values(ascending = False) / len(df) * 100\n",
    "missing_percentage"
   ]
  },
  {
   "cell_type": "markdown",
   "id": "18da6c53",
   "metadata": {
    "papermill": {
     "duration": 0.027489,
     "end_time": "2024-01-27T18:57:48.430007",
     "exception": false,
     "start_time": "2024-01-27T18:57:48.402518",
     "status": "completed"
    },
    "tags": []
   },
   "source": [
    "Get only those columns which has null values"
   ]
  },
  {
   "cell_type": "code",
   "execution_count": 19,
   "id": "2cebd92d",
   "metadata": {
    "papermill": {
     "duration": 0.047014,
     "end_time": "2024-01-27T18:57:48.506603",
     "exception": false,
     "start_time": "2024-01-27T18:57:48.459589",
     "status": "completed"
    },
    "tags": []
   },
   "outputs": [
    {
     "data": {
      "text/plain": [
       "Number                   65.661493\n",
       "Precipitation(in)        24.723172\n",
       "Wind_Chill(F)            22.373316\n",
       "Wind_Speed(mph)           6.476408\n",
       "Humidity(%)               3.125384\n",
       "Wind_Direction            2.960494\n",
       "Visibility(mi)            2.938750\n",
       "Temperature(F)            2.931884\n",
       "Weather_Condition         2.885821\n",
       "Pressure(in)              2.428057\n",
       "Weather_Timestamp         2.109053\n",
       "Airport_Code              0.253487\n",
       "Timezone                  0.110054\n",
       "Zipcode                   0.046635\n",
       "Sunrise_Sunset            0.006580\n",
       "Civil_Twilight            0.006580\n",
       "Nautical_Twilight         0.006580\n",
       "Astronomical_Twilight     0.006580\n",
       "City                      0.006580\n",
       "dtype: float64"
      ]
     },
     "execution_count": 19,
     "metadata": {},
     "output_type": "execute_result"
    }
   ],
   "source": [
    "missing_percentage[missing_percentage !=0]"
   ]
  },
  {
   "cell_type": "markdown",
   "id": "bd3f26ad",
   "metadata": {
    "papermill": {
     "duration": 0.027408,
     "end_time": "2024-01-27T18:57:48.563965",
     "exception": false,
     "start_time": "2024-01-27T18:57:48.536557",
     "status": "completed"
    },
    "tags": []
   },
   "source": [
    "Barplot to See in the missing values in the form of plot"
   ]
  },
  {
   "cell_type": "code",
   "execution_count": 21,
   "id": "482d43d5",
   "metadata": {
    "papermill": {
     "duration": 0.646696,
     "end_time": "2024-01-27T18:57:49.248487",
     "exception": false,
     "start_time": "2024-01-27T18:57:48.601791",
     "status": "completed"
    },
    "tags": []
   },
   "outputs": [
    {
     "data": {
      "image/png": "[encoded data removed]",
      "text/plain": [
       "<Figure size 640x480 with 1 Axes>"
      ]
     },
     "metadata": {},
     "output_type": "display_data"
    }
   ],
   "source": [
    "colors = plt.cm.viridis(np.linspace(0, 1, len(missing_percentage[missing_percentage != 0])))\n",
    "\n",
    "missing_percentage[missing_percentage != 0].plot(kind=\"barh\", color=colors)\n",
    "plt.xlabel('Percentage Missing')\n",
    "plt.ylabel('Columns')\n",
    "plt.title('Percentage of Missing Values in Columns')\n",
    "plt.show()"
   ]
  },
  {
   "cell_type": "markdown",
   "id": "2e027609",
   "metadata": {
    "papermill": {
     "duration": 0.030304,
     "end_time": "2024-01-27T18:57:49.310705",
     "exception": false,
     "start_time": "2024-01-27T18:57:49.280401",
     "status": "completed"
    },
    "tags": []
   },
   "source": [
    "Remove the columns that are looking unnecessary for our data"
   ]
  },
  {
   "cell_type": "markdown",
   "id": "179014ef",
   "metadata": {
    "id": "yMIfECyYxAgp",
    "papermill": {
     "duration": 0.027409,
     "end_time": "2024-01-27T18:57:49.365951",
     "exception": false,
     "start_time": "2024-01-27T18:57:49.338542",
     "status": "completed"
    },
    "tags": []
   },
   "source": [
    "## Exploratory Analysis and Data Visualization\n",
    "\n",
    "Columns we'll Analyze\n",
    "1. City\n",
    "2. Start Time\n",
    "3. Start Lng, Start Lat\n",
    "4. Temperature\n",
    "5. Weather Condition"
   ]
  },
  {
   "cell_type": "code",
   "execution_count": 24,
   "id": "d543d1b6",
   "metadata": {
    "id": "LlXZrcOPviPN",
    "papermill": {
     "duration": 0.040583,
     "end_time": "2024-01-27T18:57:49.433878",
     "exception": false,
     "start_time": "2024-01-27T18:57:49.393295",
     "status": "completed"
    },
    "tags": []
   },
   "outputs": [
    {
     "data": {
      "text/plain": [
       "Index(['ID', 'Severity', 'Start_Time', 'End_Time', 'Start_Lat', 'Start_Lng',\n",
       "       'End_Lat', 'End_Lng', 'Distance(mi)', 'Description', 'Number', 'Street',\n",
       "       'Side', 'City', 'County', 'State', 'Zipcode', 'Country', 'Timezone',\n",
       "       'Airport_Code', 'Weather_Timestamp', 'Temperature(F)', 'Wind_Chill(F)',\n",
       "       'Humidity(%)', 'Pressure(in)', 'Visibility(mi)', 'Wind_Direction',\n",
       "       'Wind_Speed(mph)', 'Precipitation(in)', 'Weather_Condition', 'Amenity',\n",
       "       'Bump', 'Crossing', 'Give_Way', 'Junction', 'No_Exit', 'Railway',\n",
       "       'Roundabout', 'Station', 'Stop', 'Traffic_Calming', 'Traffic_Signal',\n",
       "       'Turning_Loop', 'Sunrise_Sunset', 'Civil_Twilight', 'Nautical_Twilight',\n",
       "       'Astronomical_Twilight'],\n",
       "      dtype='object')"
      ]
     },
     "execution_count": 24,
     "metadata": {},
     "output_type": "execute_result"
    }
   ],
   "source": [
    "df.columns"
   ]
  },
  {
   "cell_type": "markdown",
   "id": "08c85329",
   "metadata": {
    "papermill": {
     "duration": 0.027781,
     "end_time": "2024-01-27T18:57:49.489000",
     "exception": false,
     "start_time": "2024-01-27T18:57:49.461219",
     "status": "completed"
    },
    "tags": []
   },
   "source": [
    "### City"
   ]
  },
  {
   "cell_type": "code",
   "execution_count": 26,
   "id": "93271573",
   "metadata": {
    "papermill": {
     "duration": 1.147104,
     "end_time": "2024-01-27T18:57:50.666175",
     "exception": false,
     "start_time": "2024-01-27T18:57:49.519071",
     "status": "completed"
    },
    "tags": []
   },
   "outputs": [
    {
     "data": {
      "text/plain": [
       "9601"
      ]
     },
     "execution_count": 26,
     "metadata": {},
     "output_type": "execute_result"
    }
   ],
   "source": [
    "cities = df.City.unique()\n",
    "len(cities)"
   ]
  },
  {
   "cell_type": "code",
   "execution_count": 27,
   "id": "9e79b350",
   "metadata": {
    "papermill": {
     "duration": 1.875741,
     "end_time": "2024-01-27T18:57:52.570082",
     "exception": false,
     "start_time": "2024-01-27T18:57:50.694341",
     "status": "completed"
    },
    "tags": []
   },
   "outputs": [
    {
     "data": {
      "text/plain": [
       "Miami            30848\n",
       "Los Angeles      26699\n",
       "Charlotte        18749\n",
       "Houston          14395\n",
       "Dallas           14182\n",
       "                 ...  \n",
       "Limerick             1\n",
       "Mannington           1\n",
       "Judith Gap           1\n",
       "Mancos               1\n",
       "Robinsonville        1\n",
       "Name: City, Length: 9600, dtype: int64"
      ]
     },
     "execution_count": 27,
     "metadata": {},
     "output_type": "execute_result"
    }
   ],
   "source": [
    "cities_by_accident = df.City.value_counts()\n",
    "cities_by_accident"
   ]
  },
  {
   "cell_type": "code",
   "execution_count": 28,
   "id": "41dfbbc1",
   "metadata": {
    "papermill": {
     "duration": 0.045759,
     "end_time": "2024-01-27T18:57:52.644789",
     "exception": false,
     "start_time": "2024-01-27T18:57:52.599030",
     "status": "completed"
    },
    "tags": []
   },
   "outputs": [
    {
     "data": {
      "text/plain": [
       "Miami          30848\n",
       "Los Angeles    26699\n",
       "Charlotte      18749\n",
       "Houston        14395\n",
       "Dallas         14182\n",
       "Orlando        12912\n",
       "Sacramento     12722\n",
       "San Diego       9367\n",
       "Minneapolis     9129\n",
       "Raleigh         8287\n",
       "Saint Paul      7408\n",
       "Richmond        7100\n",
       "Phoenix         7098\n",
       "Nashville       6911\n",
       "Portland        6812\n",
       "Baton Rouge     6636\n",
       "Tucson          6606\n",
       "Atlanta         6480\n",
       "Austin          6259\n",
       "Chicago         6087\n",
       "Name: City, dtype: int64"
      ]
     },
     "execution_count": 28,
     "metadata": {},
     "output_type": "execute_result"
    }
   ],
   "source": [
    "cities_by_accident[:20]"
   ]
  },
  {
   "cell_type": "markdown",
   "id": "b759d031",
   "metadata": {
    "papermill": {
     "duration": 0.027165,
     "end_time": "2024-01-27T18:57:52.699967",
     "exception": false,
     "start_time": "2024-01-27T18:57:52.672802",
     "status": "completed"
    },
    "tags": []
   },
   "source": [
    "We did not see \"New York\" in Cities. Let's Check it"
   ]
  },
  {
   "cell_type": "code",
   "execution_count": 30,
   "id": "79b2a3a0",
   "metadata": {
    "papermill": {
     "duration": 0.041167,
     "end_time": "2024-01-27T18:57:52.768705",
     "exception": false,
     "start_time": "2024-01-27T18:57:52.727538",
     "status": "completed"
    },
    "tags": []
   },
   "outputs": [
    {
     "data": {
      "text/plain": [
       "False"
      ]
     },
     "execution_count": 30,
     "metadata": {},
     "output_type": "execute_result"
    }
   ],
   "source": [
    "\"New York\" in df.City"
   ]
  },
  {
   "cell_type": "markdown",
   "id": "224f77af",
   "metadata": {
    "papermill": {
     "duration": 0.027367,
     "end_time": "2024-01-27T18:57:52.823935",
     "exception": false,
     "start_time": "2024-01-27T18:57:52.796568",
     "status": "completed"
    },
    "tags": []
   },
   "source": [
    "Not in \"City\" Now, Let's Check it for \"State\""
   ]
  },
  {
   "cell_type": "code",
   "execution_count": 32,
   "id": "c6e20270",
   "metadata": {
    "papermill": {
     "duration": 0.041951,
     "end_time": "2024-01-27T18:57:52.894372",
     "exception": false,
     "start_time": "2024-01-27T18:57:52.852421",
     "status": "completed"
    },
    "tags": []
   },
   "outputs": [
    {
     "data": {
      "text/plain": [
       "False"
      ]
     },
     "execution_count": 32,
     "metadata": {},
     "output_type": "execute_result"
    }
   ],
   "source": [
    "\"NY\" in df.State"
   ]
  },
  {
   "cell_type": "markdown",
   "id": "efc12cea",
   "metadata": {
    "papermill": {
     "duration": 0.028356,
     "end_time": "2024-01-27T18:57:52.951857",
     "exception": false,
     "start_time": "2024-01-27T18:57:52.923501",
     "status": "completed"
    },
    "tags": []
   },
   "source": [
    "Also ,Not Exist in State"
   ]
  },
  {
   "cell_type": "code",
   "execution_count": 34,
   "id": "cceae46f",
   "metadata": {
    "papermill": {
     "duration": 0.480598,
     "end_time": "2024-01-27T18:57:53.461393",
     "exception": false,
     "start_time": "2024-01-27T18:57:52.980795",
     "status": "completed"
    },
    "tags": []
   },
   "outputs": [
    {
     "data": {
      "text/plain": [
       "<Axes: >"
      ]
     },
     "execution_count": 34,
     "metadata": {},
     "output_type": "execute_result"
    },
    {
     "data": {
      "image/png": "[encoded data removed]",
      "text/plain": [
       "<Figure size 640x480 with 1 Axes>"
      ]
     },
     "metadata": {},
     "output_type": "display_data"
    }
   ],
   "source": [
    "cities_by_accident[:20].plot(kind=\"barh\")"
   ]
  },
  {
   "cell_type": "code",
   "execution_count": 35,
   "id": "d39166d3",
   "metadata": {
    "papermill": {
     "duration": 1.892546,
     "end_time": "2024-01-27T18:57:55.387084",
     "exception": false,
     "start_time": "2024-01-27T18:57:53.494538",
     "status": "completed"
    },
    "tags": []
   },
   "outputs": [],
   "source": [
    "import seaborn as sns\n",
    "sns.set_style(\"darkgrid\")"
   ]
  },
  {
   "cell_type": "code",
   "execution_count": 36,
   "id": "13e5f598",
   "metadata": {
    "papermill": {
     "duration": 0.046381,
     "end_time": "2024-01-27T18:57:56.253822",
     "exception": false,
     "start_time": "2024-01-27T18:57:56.207441",
     "status": "completed"
    },
    "tags": []
   },
   "outputs": [
    {
     "data": {
      "text/plain": [
       "158"
      ]
     },
     "execution_count": 36,
     "metadata": {},
     "output_type": "execute_result"
    }
   ],
   "source": [
    "highest_cities_accident= cities_by_accident[cities_by_accident >=1000]\n",
    "len(highest_cities_accident)"
   ]
  },
  {
   "cell_type": "code",
   "execution_count": 37,
   "id": "96ba4ffd",
   "metadata": {
    "papermill": {
     "duration": 0.546656,
     "end_time": "2024-01-27T18:57:56.831087",
     "exception": false,
     "start_time": "2024-01-27T18:57:56.284431",
     "status": "completed"
    },
    "tags": []
   },
   "outputs": [
    {
     "name": "stderr",
     "output_type": "stream",
     "text": [
      "C:\\Users\\YASHIKA\\AppData\\Local\\Temp\\ipykernel_14676\\498305691.py:1: UserWarning: \n",
      "\n",
      "`distplot` is a deprecated function and will be removed in seaborn v0.14.0.\n",
      "\n",
      "Please adapt your code to use either `displot` (a figure-level function with\n",
      "similar flexibility) or `histplot` (an axes-level function for histograms).\n",
      "\n",
      "For a guide to updating your code to use the new functions, please see\n",
      "https://gist.github.com/mwaskom/de44147ed2974457ad6372750bbe5751\n",
      "\n",
      "  sns.distplot(highest_cities_accident)\n"
     ]
    },
    {
     "data": {
      "text/plain": [
       "<Axes: xlabel='City', ylabel='Density'>"
      ]
     },
     "execution_count": 37,
     "metadata": {},
     "output_type": "execute_result"
    },
    {
     "data": {
      "image/png": "[encoded data removed]",
      "text/plain": [
       "<Figure size 640x480 with 1 Axes>"
      ]
     },
     "metadata": {},
     "output_type": "display_data"
    }
   ],
   "source": [
    "sns.distplot(highest_cities_accident)"
   ]
  },
  {
   "cell_type": "code",
   "execution_count": 38,
   "id": "3d408990",
   "metadata": {
    "papermill": {
     "duration": 0.043687,
     "end_time": "2024-01-27T18:57:56.906970",
     "exception": false,
     "start_time": "2024-01-27T18:57:56.863283",
     "status": "completed"
    },
    "tags": []
   },
   "outputs": [
    {
     "data": {
      "text/plain": [
       "0.016456619102176856"
      ]
     },
     "execution_count": 38,
     "metadata": {},
     "output_type": "execute_result"
    }
   ],
   "source": [
    "len(highest_cities_accident) / len(cities)"
   ]
  },
  {
   "cell_type": "code",
   "execution_count": 39,
   "id": "1054911f",
   "metadata": {
    "papermill": {
     "duration": 0.044589,
     "end_time": "2024-01-27T18:57:56.982823",
     "exception": false,
     "start_time": "2024-01-27T18:57:56.938234",
     "status": "completed"
    },
    "tags": []
   },
   "outputs": [
    {
     "data": {
      "text/plain": [
       "9442"
      ]
     },
     "execution_count": 39,
     "metadata": {},
     "output_type": "execute_result"
    }
   ],
   "source": [
    "lowest_cities_accident= cities_by_accident[cities_by_accident <1000]\n",
    "len(lowest_cities_accident)"
   ]
  },
  {
   "cell_type": "code",
   "execution_count": 40,
   "id": "bfb2f16b",
   "metadata": {
    "papermill": {
     "duration": 0.788661,
     "end_time": "2024-01-27T18:57:57.803866",
     "exception": false,
     "start_time": "2024-01-27T18:57:57.015205",
     "status": "completed"
    },
    "tags": []
   },
   "outputs": [
    {
     "name": "stderr",
     "output_type": "stream",
     "text": [
      "C:\\Users\\YASHIKA\\AppData\\Local\\Temp\\ipykernel_14676\\3397864553.py:1: UserWarning: \n",
      "\n",
      "`distplot` is a deprecated function and will be removed in seaborn v0.14.0.\n",
      "\n",
      "Please adapt your code to use either `displot` (a figure-level function with\n",
      "similar flexibility) or `histplot` (an axes-level function for histograms).\n",
      "\n",
      "For a guide to updating your code to use the new functions, please see\n",
      "https://gist.github.com/mwaskom/de44147ed2974457ad6372750bbe5751\n",
      "\n",
      "  sns.distplot(lowest_cities_accident)\n"
     ]
    },
    {
     "data": {
      "text/plain": [
       "<Axes: xlabel='City', ylabel='Density'>"
      ]
     },
     "execution_count": 40,
     "metadata": {},
     "output_type": "execute_result"
    },
    {
     "data": {
      "image/png": "[encoded data removed]",
      "text/plain": [
       "<Figure size 640x480 with 1 Axes>"
      ]
     },
     "metadata": {},
     "output_type": "display_data"
    }
   ],
   "source": [
    "sns.distplot(lowest_cities_accident)"
   ]
  },
  {
   "cell_type": "code",
   "execution_count": 41,
   "id": "ece8f568",
   "metadata": {
    "papermill": {
     "duration": 0.047694,
     "end_time": "2024-01-27T18:57:57.884864",
     "exception": false,
     "start_time": "2024-01-27T18:57:57.837170",
     "status": "completed"
    },
    "tags": []
   },
   "outputs": [
    {
     "data": {
      "text/plain": [
       "0.9834392250807208"
      ]
     },
     "execution_count": 41,
     "metadata": {},
     "output_type": "execute_result"
    }
   ],
   "source": [
    "len(lowest_cities_accident) / len(cities)"
   ]
  },
  {
   "cell_type": "code",
   "execution_count": 42,
   "id": "236f4a5c",
   "metadata": {
    "papermill": {
     "duration": 1.555112,
     "end_time": "2024-01-27T18:57:59.472684",
     "exception": false,
     "start_time": "2024-01-27T18:57:57.917572",
     "status": "completed"
    },
    "tags": []
   },
   "outputs": [
    {
     "data": {
      "text/plain": [
       "<Axes: xlabel='City', ylabel='Count'>"
      ]
     },
     "execution_count": 42,
     "metadata": {},
     "output_type": "execute_result"
    },
    {
     "data": {
      "image/png": "[encoded data removed]",
      "text/plain": [
       "<Figure size 640x480 with 1 Axes>"
      ]
     },
     "metadata": {},
     "output_type": "display_data"
    }
   ],
   "source": [
    "sns.histplot(cities_by_accident , log_scale=True)"
   ]
  },
  {
   "cell_type": "code",
   "execution_count": 43,
   "id": "6ed58bf1",
   "metadata": {
    "papermill": {
     "duration": 0.048518,
     "end_time": "2024-01-27T18:57:59.553883",
     "exception": false,
     "start_time": "2024-01-27T18:57:59.505365",
     "status": "completed"
    },
    "tags": []
   },
   "outputs": [
    {
     "data": {
      "text/plain": [
       "Nassawadox       1\n",
       "Cummington       1\n",
       "Mifflin          1\n",
       "Walpole          1\n",
       "Amelia           1\n",
       "                ..\n",
       "Limerick         1\n",
       "Mannington       1\n",
       "Judith Gap       1\n",
       "Mancos           1\n",
       "Robinsonville    1\n",
       "Name: City, Length: 1111, dtype: int64"
      ]
     },
     "execution_count": 43,
     "metadata": {},
     "output_type": "execute_result"
    }
   ],
   "source": [
    "cities_by_accident[cities_by_accident ==1]"
   ]
  },
  {
   "cell_type": "markdown",
   "id": "e4f98013",
   "metadata": {
    "papermill": {
     "duration": 0.032516,
     "end_time": "2024-01-27T18:57:59.619521",
     "exception": false,
     "start_time": "2024-01-27T18:57:59.587005",
     "status": "completed"
    },
    "tags": []
   },
   "source": [
    "### Start Time"
   ]
  },
  {
   "cell_type": "code",
   "execution_count": 45,
   "id": "829cabe1",
   "metadata": {
    "papermill": {
     "duration": 0.048892,
     "end_time": "2024-01-27T18:57:59.702887",
     "exception": false,
     "start_time": "2024-01-27T18:57:59.653995",
     "status": "completed"
    },
    "tags": []
   },
   "outputs": [
    {
     "data": {
      "text/plain": [
       "0          08-02-2016 00:37\n",
       "1          08-02-2016 05:56\n",
       "2          08-02-2016 06:15\n",
       "3          08-02-2016 06:15\n",
       "4          08-02-2016 06:51\n",
       "                 ...       \n",
       "1048570    10-12-2019 17:05\n",
       "1048571    10-12-2019 17:02\n",
       "1048572    10-12-2019 17:11\n",
       "1048573    10-12-2019 17:04\n",
       "1048574    10-12-2019 17:02\n",
       "Name: Start_Time, Length: 1048575, dtype: object"
      ]
     },
     "execution_count": 45,
     "metadata": {},
     "output_type": "execute_result"
    }
   ],
   "source": [
    "df.Start_Time"
   ]
  },
  {
   "cell_type": "markdown",
   "id": "054898c5",
   "metadata": {
    "papermill": {
     "duration": 0.032671,
     "end_time": "2024-01-27T18:57:59.769570",
     "exception": false,
     "start_time": "2024-01-27T18:57:59.736899",
     "status": "completed"
    },
    "tags": []
   },
   "source": [
    "As we see the datatype of this column is \"object\". So, first we convert it to datetime format"
   ]
  },
  {
   "cell_type": "code",
   "execution_count": 47,
   "id": "74d3801a",
   "metadata": {
    "papermill": {
     "duration": 6.238316,
     "end_time": "2024-01-27T18:58:06.040519",
     "exception": false,
     "start_time": "2024-01-27T18:57:59.802203",
     "status": "completed"
    },
    "tags": []
   },
   "outputs": [],
   "source": [
    "df['Start_Time'] = pd.to_datetime(df['Start_Time'], errors='coerce')\n"
   ]
  },
  {
   "cell_type": "markdown",
   "id": "770d070b",
   "metadata": {
    "papermill": {
     "duration": 0.036087,
     "end_time": "2024-01-27T18:58:06.112462",
     "exception": false,
     "start_time": "2024-01-27T18:58:06.076375",
     "status": "completed"
    },
    "tags": []
   },
   "source": [
    "- Now , We can easily see the Timestamp"
   ]
  },
  {
   "cell_type": "code",
   "execution_count": 49,
   "id": "270bc561",
   "metadata": {
    "papermill": {
     "duration": 0.053012,
     "end_time": "2024-01-27T18:58:06.200319",
     "exception": false,
     "start_time": "2024-01-27T18:58:06.147307",
     "status": "completed"
    },
    "tags": []
   },
   "outputs": [
    {
     "data": {
      "text/plain": [
       "Timestamp('2016-08-02 00:37:00')"
      ]
     },
     "execution_count": 49,
     "metadata": {},
     "output_type": "execute_result"
    }
   ],
   "source": [
    "df.Start_Time[0]"
   ]
  },
  {
   "cell_type": "code",
   "execution_count": 50,
   "id": "0282ea5b",
   "metadata": {
    "papermill": {
     "duration": 1.386643,
     "end_time": "2024-01-27T18:58:07.621539",
     "exception": false,
     "start_time": "2024-01-27T18:58:06.234896",
     "status": "completed"
    },
    "tags": []
   },
   "outputs": [
    {
     "name": "stderr",
     "output_type": "stream",
     "text": [
      "C:\\Users\\YASHIKA\\AppData\\Local\\Temp\\ipykernel_14676\\1756728629.py:1: UserWarning: \n",
      "\n",
      "`distplot` is a deprecated function and will be removed in seaborn v0.14.0.\n",
      "\n",
      "Please adapt your code to use either `displot` (a figure-level function with\n",
      "similar flexibility) or `histplot` (an axes-level function for histograms).\n",
      "\n",
      "For a guide to updating your code to use the new functions, please see\n",
      "https://gist.github.com/mwaskom/de44147ed2974457ad6372750bbe5751\n",
      "\n",
      "  sns.distplot(df.Start_Time.dt.hour , bins =24 , norm_hist=True ,kde= False)\n"
     ]
    },
    {
     "data": {
      "text/plain": [
       "<Axes: xlabel='Start_Time'>"
      ]
     },
     "execution_count": 50,
     "metadata": {},
     "output_type": "execute_result"
    },
    {
     "data": {
      "image/png": "[encoded data removed]",
      "text/plain": [
       "<Figure size 640x480 with 1 Axes>"
      ]
     },
     "metadata": {},
     "output_type": "display_data"
    }
   ],
   "source": [
    "sns.distplot(df.Start_Time.dt.hour , bins =24 , norm_hist=True ,kde= False)"
   ]
  },
  {
   "cell_type": "markdown",
   "id": "62e0faa5",
   "metadata": {
    "papermill": {
     "duration": 0.037803,
     "end_time": "2024-01-27T18:58:07.692664",
     "exception": false,
     "start_time": "2024-01-27T18:58:07.654861",
     "status": "completed"
    },
    "tags": []
   },
   "source": [
    "- A high percentage of accidents occur between 6 am to 10 am (probably people in a hurry to get to work)\n",
    "- Next higest percentage is 3 pm to 6 pm."
   ]
  },
  {
   "cell_type": "code",
   "execution_count": 52,
   "id": "2ecbef39",
   "metadata": {
    "papermill": {
     "duration": 1.587849,
     "end_time": "2024-01-27T18:58:09.315829",
     "exception": false,
     "start_time": "2024-01-27T18:58:07.727980",
     "status": "completed"
    },
    "tags": []
   },
   "outputs": [
    {
     "name": "stderr",
     "output_type": "stream",
     "text": [
      "C:\\Users\\YASHIKA\\AppData\\Local\\Temp\\ipykernel_14676\\308908771.py:1: UserWarning: \n",
      "\n",
      "`distplot` is a deprecated function and will be removed in seaborn v0.14.0.\n",
      "\n",
      "Please adapt your code to use either `displot` (a figure-level function with\n",
      "similar flexibility) or `histplot` (an axes-level function for histograms).\n",
      "\n",
      "For a guide to updating your code to use the new functions, please see\n",
      "https://gist.github.com/mwaskom/de44147ed2974457ad6372750bbe5751\n",
      "\n",
      "  sns.distplot(df.Start_Time.dt.dayofweek, bins=7, kde=False, norm_hist=True)\n"
     ]
    },
    {
     "data": {
      "text/plain": [
       "<Axes: xlabel='Start_Time'>"
      ]
     },
     "execution_count": 52,
     "metadata": {},
     "output_type": "execute_result"
    },
    {
     "data": {
      "image/png": "[encoded data removed]",
      "text/plain": [
       "<Figure size 640x480 with 1 Axes>"
      ]
     },
     "metadata": {},
     "output_type": "display_data"
    }
   ],
   "source": [
    "sns.distplot(df.Start_Time.dt.dayofweek, bins=7, kde=False, norm_hist=True)"
   ]
  },
  {
   "cell_type": "markdown",
   "id": "7c469bb8",
   "metadata": {
    "papermill": {
     "duration": 0.033453,
     "end_time": "2024-01-27T18:58:09.384421",
     "exception": false,
     "start_time": "2024-01-27T18:58:09.350968",
     "status": "completed"
    },
    "tags": []
   },
   "source": [
    "Is the distribution of accidents by hour the same on weekends as on weekdays."
   ]
  },
  {
   "cell_type": "code",
   "execution_count": 54,
   "id": "04cbc88d",
   "metadata": {
    "papermill": {
     "duration": 1.40169,
     "end_time": "2024-01-27T18:58:10.821519",
     "exception": false,
     "start_time": "2024-01-27T18:58:09.419829",
     "status": "completed"
    },
    "tags": []
   },
   "outputs": [
    {
     "name": "stderr",
     "output_type": "stream",
     "text": [
      "C:\\Users\\YASHIKA\\AppData\\Local\\Temp\\ipykernel_14676\\3630331899.py:2: UserWarning: \n",
      "\n",
      "`distplot` is a deprecated function and will be removed in seaborn v0.14.0.\n",
      "\n",
      "Please adapt your code to use either `displot` (a figure-level function with\n",
      "similar flexibility) or `histplot` (an axes-level function for histograms).\n",
      "\n",
      "For a guide to updating your code to use the new functions, please see\n",
      "https://gist.github.com/mwaskom/de44147ed2974457ad6372750bbe5751\n",
      "\n",
      "  sns.distplot(sundays_start_time.dt.hour, bins=24, kde=False, norm_hist=True)\n"
     ]
    },
    {
     "data": {
      "text/plain": [
       "<Axes: xlabel='Start_Time'>"
      ]
     },
     "execution_count": 54,
     "metadata": {},
     "output_type": "execute_result"
    },
    {
     "data": {
      "image/png": "[encoded data removed]",
      "text/plain": [
       "<Figure size 640x480 with 1 Axes>"
      ]
     },
     "metadata": {},
     "output_type": "display_data"
    }
   ],
   "source": [
    "sundays_start_time = df.Start_Time[df.Start_Time.dt.dayofweek == 6]\n",
    "sns.distplot(sundays_start_time.dt.hour, bins=24, kde=False, norm_hist=True)"
   ]
  },
  {
   "cell_type": "markdown",
   "id": "9578f87c",
   "metadata": {
    "papermill": {
     "duration": 0.035068,
     "end_time": "2024-01-27T18:58:10.892361",
     "exception": false,
     "start_time": "2024-01-27T18:58:10.857293",
     "status": "completed"
    },
    "tags": []
   },
   "source": [
    "- Most of Accident on the 6th Day of week is from 9am to 6pm  "
   ]
  },
  {
   "cell_type": "code",
   "execution_count": 56,
   "id": "682399f2",
   "metadata": {
    "papermill": {
     "duration": 1.482062,
     "end_time": "2024-01-27T18:58:12.410040",
     "exception": false,
     "start_time": "2024-01-27T18:58:10.927978",
     "status": "completed"
    },
    "tags": []
   },
   "outputs": [
    {
     "name": "stderr",
     "output_type": "stream",
     "text": [
      "C:\\Users\\YASHIKA\\AppData\\Local\\Temp\\ipykernel_14676\\4268565558.py:2: UserWarning: \n",
      "\n",
      "`distplot` is a deprecated function and will be removed in seaborn v0.14.0.\n",
      "\n",
      "Please adapt your code to use either `displot` (a figure-level function with\n",
      "similar flexibility) or `histplot` (an axes-level function for histograms).\n",
      "\n",
      "For a guide to updating your code to use the new functions, please see\n",
      "https://gist.github.com/mwaskom/de44147ed2974457ad6372750bbe5751\n",
      "\n",
      "  sns.distplot(monday_start_time.dt.hour, bins=24, kde=False, norm_hist=True)\n"
     ]
    },
    {
     "data": {
      "text/plain": [
       "<Axes: xlabel='Start_Time'>"
      ]
     },
     "execution_count": 56,
     "metadata": {},
     "output_type": "execute_result"
    },
    {
     "data": {
      "image/png": "[encoded data removed]",
      "text/plain": [
       "<Figure size 640x480 with 1 Axes>"
      ]
     },
     "metadata": {},
     "output_type": "display_data"
    }
   ],
   "source": [
    "monday_start_time = df.Start_Time[df.Start_Time.dt.dayofweek == 0]\n",
    "sns.distplot(monday_start_time.dt.hour, bins=24, kde=False, norm_hist=True)"
   ]
  },
  {
   "cell_type": "markdown",
   "id": "916ebda3",
   "metadata": {
    "papermill": {
     "duration": 0.037085,
     "end_time": "2024-01-27T18:58:12.485225",
     "exception": false,
     "start_time": "2024-01-27T18:58:12.448140",
     "status": "completed"
    },
    "tags": []
   },
   "source": [
    "On Sundays, the peak occurs between 10 am and 3 pm, unlike weekdays"
   ]
  },
  {
   "cell_type": "markdown",
   "id": "a811cdfa",
   "metadata": {
    "papermill": {
     "duration": 0.037266,
     "end_time": "2024-01-27T18:58:16.212071",
     "exception": false,
     "start_time": "2024-01-27T18:58:16.174805",
     "status": "completed"
    },
    "tags": []
   },
   "source": [
    "### Start Latitide and Longitude"
   ]
  },
  {
   "cell_type": "code",
   "execution_count": 59,
   "id": "4700e58e",
   "metadata": {
    "papermill": {
     "duration": 0.052384,
     "end_time": "2024-01-27T18:58:16.303687",
     "exception": false,
     "start_time": "2024-01-27T18:58:16.251303",
     "status": "completed"
    },
    "tags": []
   },
   "outputs": [
    {
     "data": {
      "text/plain": [
       "0          40.108910\n",
       "1          39.865420\n",
       "2          39.102660\n",
       "3          39.101480\n",
       "4          41.062130\n",
       "             ...    \n",
       "1048570    33.195825\n",
       "1048571    33.901813\n",
       "1048572    33.651594\n",
       "1048573    35.419703\n",
       "1048574    33.806080\n",
       "Name: Start_Lat, Length: 1048575, dtype: float64"
      ]
     },
     "execution_count": 59,
     "metadata": {},
     "output_type": "execute_result"
    }
   ],
   "source": [
    "df.Start_Lat"
   ]
  },
  {
   "cell_type": "code",
   "execution_count": 61,
   "id": "4078887c",
   "metadata": {
    "papermill": {
     "duration": 0.052983,
     "end_time": "2024-01-27T18:58:16.394035",
     "exception": false,
     "start_time": "2024-01-27T18:58:16.341052",
     "status": "completed"
    },
    "tags": []
   },
   "outputs": [
    {
     "data": {
      "text/plain": [
       "0          -83.092860\n",
       "1          -84.062800\n",
       "2          -84.524680\n",
       "3          -84.523410\n",
       "4          -81.537840\n",
       "              ...    \n",
       "1048570   -117.367005\n",
       "1048571   -117.466712\n",
       "1048572   -117.761153\n",
       "1048573   -119.012848\n",
       "1048574   -117.880100\n",
       "Name: Start_Lng, Length: 1048575, dtype: float64"
      ]
     },
     "execution_count": 61,
     "metadata": {},
     "output_type": "execute_result"
    }
   ],
   "source": [
    "df.Start_Lng"
   ]
  },
  {
   "cell_type": "code",
   "execution_count": 63,
   "id": "1be6d2d1",
   "metadata": {
    "papermill": {
     "duration": 3.157742,
     "end_time": "2024-01-27T18:58:19.588783",
     "exception": false,
     "start_time": "2024-01-27T18:58:16.431041",
     "status": "completed"
    },
    "tags": []
   },
   "outputs": [],
   "source": [
    "sample_df = df.sample(int(0.1 *len(df)))"
   ]
  },
  {
   "cell_type": "markdown",
   "id": "4a87608d",
   "metadata": {
    "papermill": {
     "duration": 0.036766,
     "end_time": "2024-01-27T18:58:19.664501",
     "exception": false,
     "start_time": "2024-01-27T18:58:19.627735",
     "status": "completed"
    },
    "tags": []
   },
   "source": [
    "Reduce the DF Size to 1% ,just because there is a lot of points in the dataset"
   ]
  },
  {
   "cell_type": "code",
   "execution_count": 65,
   "id": "9a4a368b",
   "metadata": {
    "papermill": {
     "duration": 3.722919,
     "end_time": "2024-01-27T18:58:23.429358",
     "exception": false,
     "start_time": "2024-01-27T18:58:19.706439",
     "status": "completed"
    },
    "tags": []
   },
   "outputs": [
    {
     "data": {
      "text/plain": [
       "<Axes: xlabel='Start_Lng', ylabel='Start_Lat'>"
      ]
     },
     "execution_count": 65,
     "metadata": {},
     "output_type": "execute_result"
    },
    {
     "data": {
      "image/png": "[encoded data removed]",
      "text/plain": [
       "<Figure size 640x480 with 1 Axes>"
      ]
     },
     "metadata": {},
     "output_type": "display_data"
    }
   ],
   "source": [
    "sns.scatterplot(x=sample_df.Start_Lng,y= sample_df.Start_Lat)"
   ]
  },
  {
   "cell_type": "code",
   "execution_count": 67,
   "id": "fd628f26",
   "metadata": {
    "papermill": {
     "duration": 0.500222,
     "end_time": "2024-01-27T18:58:23.971579",
     "exception": false,
     "start_time": "2024-01-27T18:58:23.471357",
     "status": "completed"
    },
    "tags": []
   },
   "outputs": [
    {
     "name": "stdout",
     "output_type": "stream",
     "text": [
      "Defaulting to user installation because normal site-packages is not writeable\n",
      "Collecting folium\n",
      "  Downloading folium-0.17.0-py2.py3-none-any.whl.metadata (3.8 kB)\n",
      "Collecting branca>=0.6.0 (from folium)\n",
      "  Downloading branca-0.7.2-py3-none-any.whl.metadata (1.5 kB)\n",
      "Requirement already satisfied: jinja2>=2.9 in c:\\programdata\\anaconda3\\lib\\site-packages (from folium) (3.1.2)\n",
      "Requirement already satisfied: numpy in c:\\users\\yashika\\appdata\\roaming\\python\\python311\\site-packages (from folium) (1.26.2)\n",
      "Requirement already satisfied: requests in c:\\programdata\\anaconda3\\lib\\site-packages (from folium) (2.31.0)\n",
      "Requirement already satisfied: xyzservices in c:\\programdata\\anaconda3\\lib\\site-packages (from folium) (2022.9.0)\n",
      "Requirement already satisfied: MarkupSafe>=2.0 in c:\\programdata\\anaconda3\\lib\\site-packages (from jinja2>=2.9->folium) (2.1.1)\n",
      "Requirement already satisfied: charset-normalizer<4,>=2 in c:\\programdata\\anaconda3\\lib\\site-packages (from requests->folium) (2.0.4)\n",
      "Requirement already satisfied: idna<4,>=2.5 in c:\\programdata\\anaconda3\\lib\\site-packages (from requests->folium) (3.4)\n",
      "Requirement already satisfied: urllib3<3,>=1.21.1 in c:\\programdata\\anaconda3\\lib\\site-packages (from requests->folium) (1.26.16)\n",
      "Requirement already satisfied: certifi>=2017.4.17 in c:\\programdata\\anaconda3\\lib\\site-packages (from requests->folium) (2024.2.2)\n",
      "Downloading folium-0.17.0-py2.py3-none-any.whl (108 kB)\n",
      "   ---------------------------------------- 0.0/108.4 kB ? eta -:--:--\n",
      "   ---------------------------------------- 108.4/108.4 kB 3.2 MB/s eta 0:00:00\n",
      "Downloading branca-0.7.2-py3-none-any.whl (25 kB)\n",
      "Installing collected packages: branca, folium\n",
      "Successfully installed branca-0.7.2 folium-0.17.0\n"
     ]
    },
    {
     "name": "stderr",
     "output_type": "stream",
     "text": [
      "\n",
      "[notice] A new release of pip is available: 23.3.1 -> 24.1\n",
      "[notice] To update, run: python.exe -m pip install --upgrade pip\n"
     ]
    }
   ],
   "source": [
    "!pip install folium\n",
    "import folium"
   ]
  },
  {
   "cell_type": "code",
   "execution_count": 69,
   "id": "71b71385",
   "metadata": {
    "papermill": {
     "duration": 0.056631,
     "end_time": "2024-01-27T18:58:24.071959",
     "exception": false,
     "start_time": "2024-01-27T18:58:24.015328",
     "status": "completed"
    },
    "tags": []
   },
   "outputs": [
    {
     "data": {
      "text/plain": [
       "(40.10891, -83.09286)"
      ]
     },
     "execution_count": 69,
     "metadata": {},
     "output_type": "execute_result"
    }
   ],
   "source": [
    "lat, lon = df.Start_Lat[0], df.Start_Lng[0]\n",
    "lat, lon"
   ]
  },
  {
   "cell_type": "code",
   "execution_count": 71,
   "id": "465e1736",
   "metadata": {
    "papermill": {
     "duration": 0.614241,
     "end_time": "2024-01-27T18:58:24.728510",
     "exception": false,
     "start_time": "2024-01-27T18:58:24.114269",
     "status": "completed"
    },
    "tags": []
   },
   "outputs": [
    {
     "name": "stdout",
     "output_type": "stream",
     "text": [
      "80098     30.136500\n",
      "628839    34.125075\n",
      "588789    36.023710\n",
      "354628    33.034202\n",
      "907205    45.013720\n",
      "            ...    \n",
      "537308    37.693292\n",
      "683078    40.726754\n",
      "558777    39.596168\n",
      "295604    25.964097\n",
      "262671    39.653009\n",
      "Name: Start_Lat, Length: 100, dtype: float64\n",
      "80098     -81.535640\n",
      "628839   -118.476649\n",
      "588789   -118.807771\n",
      "354628    -81.342136\n",
      "907205   -123.208100\n",
      "             ...    \n",
      "537308   -122.141885\n",
      "683078    -74.139587\n",
      "558777    -76.060919\n",
      "295604    -80.165555\n",
      "262671    -77.918626\n",
      "Name: Start_Lng, Length: 100, dtype: float64\n"
     ]
    }
   ],
   "source": [
    "for x in df[['Start_Lat', 'Start_Lng']].sample(100).items():\n",
    "    print(x[1])"
   ]
  },
  {
   "cell_type": "code",
   "execution_count": 73,
   "id": "15d4a1e9",
   "metadata": {
    "papermill": {
     "duration": 3.273246,
     "end_time": "2024-01-27T18:58:28.043300",
     "exception": false,
     "start_time": "2024-01-27T18:58:24.770054",
     "status": "completed"
    },
    "tags": []
   },
   "outputs": [
    {
     "data": {
      "text/plain": [
       "<zip at 0x25bee2b5f00>"
      ]
     },
     "execution_count": 73,
     "metadata": {},
     "output_type": "execute_result"
    }
   ],
   "source": [
    "zip(list(df.Start_Lat), list(df.Start_Lng))"
   ]
  },
  {
   "cell_type": "code",
   "execution_count": 75,
   "id": "45d393ef",
   "metadata": {
    "papermill": {
     "duration": 0.683469,
     "end_time": "2024-01-27T18:58:28.771327",
     "exception": false,
     "start_time": "2024-01-27T18:58:28.087858",
     "status": "completed"
    },
    "tags": []
   },
   "outputs": [],
   "source": [
    "from folium.plugins import HeatMap"
   ]
  },
  {
   "cell_type": "code",
   "execution_count": 77,
   "id": "820f6acf",
   "metadata": {
    "papermill": {
     "duration": 0.750492,
     "end_time": "2024-01-27T18:58:29.562672",
     "exception": false,
     "start_time": "2024-01-27T18:58:28.812180",
     "status": "completed"
    },
    "tags": []
   },
   "outputs": [],
   "source": [
    "sample_df = df.sample(int(0.001 * len(df)))\n",
    "lat_lon_pairs = list(zip(list(sample_df.Start_Lat), list(sample_df.Start_Lng)))"
   ]
  },
  {
   "cell_type": "code",
   "execution_count": 79,
   "id": "d42c9b2e",
   "metadata": {
    "papermill": {
     "duration": 0.215325,
     "end_time": "2024-01-27T18:58:29.820361",
     "exception": false,
     "start_time": "2024-01-27T18:58:29.605036",
     "status": "completed"
    },
    "tags": []
   },
   "outputs": [
    {
     "data": {
      "text/html": [
       "<div style=\"width:100%;\"><div style=\"position:relative;width:100%;height:0;padding-bottom:60%;\"><span style=\"color:#565656\">Make this Notebook Trusted to load map: File -> Trust Notebook</span><iframe srcdoc=\"&lt;!DOCTYPE html&gt;\n",
       "&lt;html&gt;\n",
       "&lt;head&gt;\n",
       "    \n",
       "    &lt;meta http-equiv=&quot;content-type&quot; content=&quot;text/html; charset=UTF-8&quot; /&gt;\n",
       "    \n",
       "        &lt;script&gt;\n",
       "            L_NO_TOUCH = false;\n",
       "            L_DISABLE_3D = false;\n",
       "        &lt;/script&gt;\n",
       "    \n",
       "    &lt;style&gt;html, body {width: 100%;height: 100%;margin: 0;padding: 0;}&lt;/style&gt;\n",
       "    &lt;style&gt;#map {position:absolute;top:0;bottom:0;right:0;left:0;}&lt;/style&gt;\n",
       "    &lt;script src=&quot;https://cdn.jsdelivr.net/npm/leaflet@1.9.3/dist/leaflet.js&quot;&gt;&lt;/script&gt;\n",
       "    &lt;script src=&quot;https://code.jquery.com/jquery-3.7.1.min.js&quot;&gt;&lt;/script&gt;\n",
       "    &lt;script src=&quot;https://cdn.jsdelivr.net/npm/bootstrap@5.2.2/dist/js/bootstrap.bundle.min.js&quot;&gt;&lt;/script&gt;\n",
       "    &lt;script src=&quot;https://cdnjs.cloudflare.com/ajax/libs/Leaflet.awesome-markers/2.0.2/leaflet.awesome-markers.js&quot;&gt;&lt;/script&gt;\n",
       "    &lt;link rel=&quot;stylesheet&quot; href=&quot;https://cdn.jsdelivr.net/npm/leaflet@1.9.3/dist/leaflet.css&quot;/&gt;\n",
       "    &lt;link rel=&quot;stylesheet&quot; href=&quot;https://cdn.jsdelivr.net/npm/bootstrap@5.2.2/dist/css/bootstrap.min.css&quot;/&gt;\n",
       "    &lt;link rel=&quot;stylesheet&quot; href=&quot;https://netdna.bootstrapcdn.com/bootstrap/3.0.0/css/bootstrap-glyphicons.css&quot;/&gt;\n",
       "    &lt;link rel=&quot;stylesheet&quot; href=&quot;https://cdn.jsdelivr.net/npm/@fortawesome/fontawesome-free@6.2.0/css/all.min.css&quot;/&gt;\n",
       "    &lt;link rel=&quot;stylesheet&quot; href=&quot;https://cdnjs.cloudflare.com/ajax/libs/Leaflet.awesome-markers/2.0.2/leaflet.awesome-markers.css&quot;/&gt;\n",
       "    &lt;link rel=&quot;stylesheet&quot; href=&quot;https://cdn.jsdelivr.net/gh/python-visualization/folium/folium/templates/leaflet.awesome.rotate.min.css&quot;/&gt;\n",
       "    \n",
       "            &lt;meta name=&quot;viewport&quot; content=&quot;width=device-width,\n",
       "                initial-scale=1.0, maximum-scale=1.0, user-scalable=no&quot; /&gt;\n",
       "            &lt;style&gt;\n",
       "                #map_d9d488d3c353c9d0cc453268022f9f73 {\n",
       "                    position: relative;\n",
       "                    width: 100.0%;\n",
       "                    height: 100.0%;\n",
       "                    left: 0.0%;\n",
       "                    top: 0.0%;\n",
       "                }\n",
       "                .leaflet-container { font-size: 1rem; }\n",
       "            &lt;/style&gt;\n",
       "        \n",
       "    &lt;script src=&quot;https://cdn.jsdelivr.net/gh/python-visualization/folium@main/folium/templates/leaflet_heat.min.js&quot;&gt;&lt;/script&gt;\n",
       "&lt;/head&gt;\n",
       "&lt;body&gt;\n",
       "    \n",
       "    \n",
       "            &lt;div class=&quot;folium-map&quot; id=&quot;map_d9d488d3c353c9d0cc453268022f9f73&quot; &gt;&lt;/div&gt;\n",
       "        \n",
       "&lt;/body&gt;\n",
       "&lt;script&gt;\n",
       "    \n",
       "    \n",
       "            var map_d9d488d3c353c9d0cc453268022f9f73 = L.map(\n",
       "                &quot;map_d9d488d3c353c9d0cc453268022f9f73&quot;,\n",
       "                {\n",
       "                    center: [0.0, 0.0],\n",
       "                    crs: L.CRS.EPSG3857,\n",
       "                    zoom: 1,\n",
       "                    zoomControl: true,\n",
       "                    preferCanvas: false,\n",
       "                }\n",
       "            );\n",
       "\n",
       "            \n",
       "\n",
       "        \n",
       "    \n",
       "            var tile_layer_f2c231653fa306739c191435fd4afd4f = L.tileLayer(\n",
       "                &quot;https://tile.openstreetmap.org/{z}/{x}/{y}.png&quot;,\n",
       "                {&quot;attribution&quot;: &quot;\\u0026copy; \\u003ca href=\\&quot;https://www.openstreetmap.org/copyright\\&quot;\\u003eOpenStreetMap\\u003c/a\\u003e contributors&quot;, &quot;detectRetina&quot;: false, &quot;maxNativeZoom&quot;: 19, &quot;maxZoom&quot;: 19, &quot;minZoom&quot;: 0, &quot;noWrap&quot;: false, &quot;opacity&quot;: 1, &quot;subdomains&quot;: &quot;abc&quot;, &quot;tms&quot;: false}\n",
       "            );\n",
       "        \n",
       "    \n",
       "            tile_layer_f2c231653fa306739c191435fd4afd4f.addTo(map_d9d488d3c353c9d0cc453268022f9f73);\n",
       "        \n",
       "    \n",
       "            var heat_map_c32ddbbcd79d7ebb970ccc625e115942 = L.heatLayer(\n",
       "                [[37.17011, -121.989613], [38.657401, -121.382907], [44.94874, -92.903425], [26.16219, -80.16231], [33.656131, -117.292949], [35.120533, -107.824512], [37.765363, -121.435114], [37.419296, -121.944117], [33.083938, -117.297885], [33.925062, -118.325704], [30.35456, -89.92514], [33.89998, -118.18711], [33.85909, -78.65677], [36.752938, -119.827103], [42.4495, -93.89742], [39.87468, -75.01714], [38.95797, -77.27482], [39.373798, -78.295996], [38.904319, -77.017602], [32.914157, -96.735357], [34.02991, -117.71158], [41.97496, -88.207069], [38.83798, -76.86312], [34.318896, -118.443142], [38.87902, -77.25445], [34.024396, -117.559183], [38.297921, -121.315768], [36.05214, -118.937165], [40.302747, -104.980682], [25.86823, -80.234413], [42.28234, -122.82597], [42.84879, -73.88878], [47.84999, -122.27441], [44.93774, -93.34941], [33.496623, -86.815905], [40.05889, -81.68702], [34.037032, -118.37752], [40.89999, -73.79602], [35.32078, -80.95255], [38.94041, -94.57836], [25.768422, -80.369947], [33.91288, -118.14513], [41.247513, -76.993163], [45.1009, -93.30024], [35.616386, -119.65309], [39.806149, -75.451289], [40.651098, -74.75045], [43.50136, -83.93095], [34.50713, -118.113145], [33.407874, -81.788748], [39.108957, -94.811249], [44.01527, -123.02417], [33.9597, -118.247242], [44.966193, -93.255139], [39.79766, -84.28083], [34.000928, -117.843899], [40.554113, -123.181983], [33.76589, -117.9421], [42.876083, -78.795038], [34.169132, -118.098287], [28.510038, -81.426005], [32.841954, -117.120783], [44.943748, -116.878384], [33.84069, -84.311796], [42.138541, -87.88689], [36.04637, -95.92208], [40.472626, -78.281278], [40.71881, -73.8263], [39.138829, -122.881026], [25.677211, -80.465409], [36.999416, -76.317344], [41.87784, -87.64605], [25.714375, -80.415451], [46.78127, -92.10283], [37.66377, -121.02834], [38.874026, -76.843941], [36.27569, -78.60367], [44.95164, -93.15791], [32.838554, -97.054097], [34.282668, -118.788137], [34.032606, -118.220771], [37.772058, -122.224799], [34.13648, -96.27074], [38.67866, -121.244348], [33.690015, -117.174199], [47.25876, -115.053742], [38.982506, -76.554118], [39.339909, -123.313624], [39.09032, -94.48728], [44.884807, -93.350345], [40.76055, -111.87501], [33.383942, -117.579535], [25.879404, -80.356367], [33.430456, -112.037756], [32.149795, -81.516741], [42.91711, -83.50171], [33.921371, -111.45485], [34.025905, -117.778152], [40.614669, -74.156706], [25.899797, -80.209679], [42.65755, -88.26035], [38.529936, -121.751491], [27.46244, -82.565356], [36.17644, -119.493254], [34.02499, -118.2387], [29.788819, -95.535446], [41.729321, -72.755455], [35.22465, -80.90115], [34.918294, -82.06074], [37.332962, -119.650932], [37.701518, -121.86684], [36.67335, -121.64065], [38.71107, -90.44812], [34.054531, -118.211192], [37.600508, -122.210158], [38.9899, -77.15691], [37.755664, -122.209178], [32.694164, -96.823092], [37.54481, -77.42825], [30.419113, -87.250298], [34.051362, -80.924016], [28.02071, -82.45533], [31.821164, -86.669437], [33.920685, -117.431756], [38.574394, -121.577427], [33.859715, -118.299188], [30.164583, -81.746236], [32.416117, -93.797467], [32.935701, -96.751018], [40.47025, -79.90867], [38.558871, -121.476296], [37.089613, -122.089076], [41.81382, -71.44129], [42.85367, -74.02507], [28.087283, -82.451367], [34.945954, -92.067757], [33.857405, -98.535928], [34.03167, -118.02194], [41.529, -81.65198], [35.553256, -120.761651], [40.103303, -84.625514], [40.06892, -75.18175], [37.69057, -122.13207], [25.688835, -80.382457], [44.782165, -93.469779], [25.68629, -80.38472], [38.83566, -77.00783], [26.142525, -80.169749], [41.588955, -122.501986], [30.377175, -91.06834], [37.14435, -121.98468], [32.459411, -96.843641], [47.18168, -92.48059], [45.03567, -93.78718], [38.348645, -119.452771], [33.885709, -118.190113], [42.30961, -87.89259], [33.8307, -79.04092], [38.704854, -90.674799], [37.56531, -77.44854], [41.39929, -81.81666], [36.915529, -76.308087], [38.536211, -77.815978], [44.42957, -121.9235], [39.933219, -111.2], [33.595858, -112.038791], [38.661157, -121.301314], [39.824784, -76.683872], [36.01187, -86.61747], [45.073417, -93.316465], [40.04098, -75.25139], [25.578605, -80.369696], [38.869279, -121.130946], [38.48222, -122.73677], [30.43775, -91.024229], [25.928478, -80.189198], [29.805956, -95.354452], [33.97799, -118.281], [40.62834, -74.27169], [40.147405, -75.367164], [34.0191, -117.50317], [25.75485, -80.38499], [40.06171, -75.13678], [34.031851, -117.758151], [28.00331, -80.63408], [33.925239, -117.880042], [47.04374, -95.13513], [40.84666, -73.94306], [35.75299, -78.64897], [33.832542, -118.293599], [33.56389, -117.546029], [33.552842, -112.2022], [34.178487, -118.119304], [38.337253, -77.495917], [41.05981, -73.84049], [30.10545, -95.43545], [42.433221, -123.481547], [36.826418, -76.325916], [38.76612, -121.200956], [35.18573, -89.8963], [35.785064, -78.698964], [37.669681, -122.392979], [34.119061, -118.152304], [34.02168, -118.163371], [33.44158, -116.86178], [37.57601, -77.46281], [29.706527, -95.510164], [28.47902, -81.44962], [39.1489, -75.98175], [40.66481, -74.10811], [39.81713, -75.91095], [39.400674, -77.437037], [31.069873, -89.209196], [25.684325, -80.416429], [36.14355, -86.7021], [34.006593, -117.9095], [29.747708, -95.26506], [44.406512, -123.891318], [41.73456, -72.747355], [35.396667, -118.929722], [39.90426, -75.123519], [47.578106, -122.319474], [40.75757, -74.20301], [35.824688, -78.314871], [40.76873, -73.94898], [45.492142, -120.50413], [28.388503, -81.404657], [36.082848, -80.229586], [40.255166, -75.258263], [33.15252, -117.2012], [44.951838, -93.08616], [32.92097, -96.76514], [35.383478, -119.136724], [27.123407, -80.233955], [34.044096, -117.922841], [32.206584, -110.839292], [27.96068, -82.77497], [32.70103, -96.82426], [30.264211, -82.753111], [44.82528, -93.171712], [34.246418, -117.495385], [33.939766, -117.226207], [38.390489, -85.389943], [28.551887, -81.101701], [26.682195, -81.897481], [40.159833, -75.051838], [41.86854, -71.42522], [45.035458, -92.915142], [38.119522, -79.042156], [42.30615, -83.74366], [38.8, -77.166], [39.284373, -76.538153], [47.462703, -122.259817], [33.698451, -117.861378], [33.34048, -117.012796], [35.12431, -118.47681], [39.79794, -104.98667], [29.992815, -90.048869], [37.573925, -77.460122], [40.064915, -75.277183], [30.46147, -97.79358], [35.028222, -85.360411], [46.4128, -94.28588], [34.308722, -119.124439], [45.69648, -121.29088], [38.672197, -121.336564], [41.15498, -111.93975], [38.38563, -121.9369], [44.17857, -116.96455], [41.2102, -111.9679], [33.397017, -84.603835], [41.099598, -73.797533], [38.84488, -76.93458], [34.1207, -117.8247], [34.272183, -119.282324], [35.8712, -78.72223], [27.984805, -82.397731], [39.92765, -75.14666], [28.218055, -82.458596], [45.508159, -122.722619], [29.44582, -95.07422], [34.84394, -118.868545], [46.78626, -92.09698], [40.73221, -73.91926], [28.362307, -80.70032], [35.352319, -119.007508], [36.721838, -119.785497], [25.78446, -80.24334], [33.98916, -118.28016], [42.695156, -73.838971], [45.00946, -93.12621], [34.30869, -117.47092], [40.69661, -111.93893], [34.067092, -117.441712], [38.842325, -76.948837], [39.81584, -84.13031], [39.846297, -75.707412], [34.06052, -81.04902], [34.441158, -119.815566], [43.663796, -93.321453], [41.034411, -75.310859], [40.14189, -86.5268], [40.02871, -83.03405], [40.4226, -75.5237], [39.061814, -120.122616], [39.009329, -104.778424], [33.170076, -87.403793], [36.98415, -121.957245], [38.87529, -77.30747], [33.956029, -118.109051], [32.75992, -97.18826], [41.1032, -74.02559], [33.5461, -86.827817], [36.210786, -119.118154], [38.48295, -78.81019], [41.75093, -88.01756], [42.32351, -88.15689], [43.1093, -76.03546], [28.63802, -81.387351], [44.95505, -93.0743], [39.163239, -122.921112], [41.641944, -122.167222], [25.941415, -80.231151], [30.45306, -81.710332], [28.004955, -82.307692], [45.97562, -94.34004], [35.47319, -97.50689], [40.751173, -73.616103], [29.824243, -95.379942], [32.66309, -117.10912], [25.909499, -80.236108], [39.944251, -75.142924], [27.942003, -82.329179], [43.08077, -75.320393], [42.06279, -88.07158], [40.492498, -121.887235], [37.36775, -121.9012], [33.956603, -80.931402], [45.063961, -93.301184], [33.82713, -84.345382], [38.52854, -121.46971], [37.74391, -122.40564], [37.63022, -122.43486], [34.112607, -118.26637], [33.981069, -118.393724], [39.94219, -83.0116], [44.862169, -124.037561], [37.4911, -122.21863], [41.05132, -77.18027], [39.71178, -76.349671], [35.312668, -80.707854], [40.642151, -111.902865], [33.48102, -81.99077], [43.654507, -123.876353], [41.672566, -72.845443], [32.069317, -81.248584], [34.080704, -117.628484], [37.546433, -122.513427], [33.87648, -118.103016], [32.687491, -97.465134], [40.137937, -75.212284], [33.871482, -117.685514], [25.92359, -80.323086], [34.062981, -81.046207], [42.18561, -71.07672], [45.288804, -93.757461], [33.928169, -118.239164], [42.97073, -85.67853], [37.763528, -121.418744], [43.37056, -123.3322], [42.559563, -88.050504], [42.717643, -73.874784], [40.270641, -75.2701], [25.785093, -80.239461], [37.984556, -78.293188], [32.77481, -96.77853], [37.413176, -77.426625], [35.128613, -85.246477], [34.14645, -118.76536], [34.918851, -81.985885], [34.082806, -118.297847], [35.16434, -85.08345], [32.914955, -117.230917], [39.82769, -104.98835], [34.08747, -117.6456], [39.16026, -76.822857], [30.263117, -97.735694], [35.018998, -85.239896], [39.91304, -75.00554], [34.01162, -117.720577], [37.05417, -111.63395], [35.1471, -80.92614], [31.7622, -106.3951], [32.823039, -117.116321], [26.40862, -80.18656], [44.88201, -93.41238], [33.768515, -117.86772], [38.67051, -77.23769], [45.59502, -94.37763], [44.79009, -93.20183], [40.15286, -86.53655], [34.004704, -118.172702], [34.15338, -118.36461], [41.33131, -73.68073], [34.058679, -118.177367], [38.024743, -121.360334], [45.527247, -122.565461], [33.897822, -117.275129], [32.717152, -117.118013], [32.78704, -79.95181], [33.190593, -87.434554], [33.46566, -81.9615], [40.848816, -73.938564], [39.847557, -75.432108], [41.07525, -73.46636], [34.063697, -117.396418], [30.72099, -88.16364], [33.8398, -84.31794], [35.20985, -80.75718], [40.134438, -75.123861], [37.620554, -77.584315], [34.18059, -112.1342], [41.894795, -112.561725], [41.92067, -88.12058], [25.844424, -80.206664], [29.81157, -95.34702], [34.019661, -118.180028], [33.686072, -117.788274], [42.87887, -85.3654], [32.670948, -114.298943], [39.973042, -75.121012], [44.091055, -123.045672], [39.16012, -76.8236], [28.614287, -81.434525], [40.845097, -73.918923], [37.42019, -121.8822], [38.524982, -121.45472], [33.720219, -78.930265], [35.17122, -80.80829], [42.175816, -88.101671], [40.41415, -76.57438], [38.24187, -85.5019], [38.87018, -77.30078], [25.899571, -80.321334], [33.822103, -118.196305], [28.51478, -81.38862], [34.224826, -117.409311], [40.889907, -74.001363], [33.164006, -87.544304], [29.857676, -95.470142], [38.842403, -77.007666], [27.460167, -82.08811], [38.49236, -121.79977], [25.811561, -80.368081], [40.75631, -111.88931], [40.24865, -76.03813], [35.22423, -80.84052], [32.481518, -93.776775], [38.6053, -77.31047], [27.206665, -82.009752], [38.595498, -120.830415], [36.16779, -115.12236], [39.24096, -76.5884], [28.019424, -82.735302], [42.154214, -88.134798], [43.10062, -87.91808], [26.094357, -80.168889], [34.128658, -118.347027], [34.096873, -118.477061], [36.772677, -121.73864], [40.20469, -79.5648], [33.92922, -84.35777], [37.329021, -121.841801], [44.75371, -123.22404], [38.883823, -77.151027], [43.15439, -77.60312], [37.62748, -122.402], [39.019135, -76.959067], [28.602727, -81.386317], [40.683433, -73.678535], [45.501379, -109.448851], [38.64547, -78.67778], [40.711609, -73.96525], [36.431258, -78.403067], [42.0054, -80.238115], [40.014492, -74.956873], [30.188996, -85.776248], [36.16693, -86.81654], [34.154981, -118.316746], [48.354905, -100.324022], [38.976972, -123.069683], [36.575132, -119.429782], [33.860131, -118.201078], [38.5667, -121.504014], [40.279431, -121.421185], [29.983365, -90.071831], [37.837997, -122.296704], [27.93781, -82.25275], [44.8907, -93.31333], [33.72816, -117.80793], [34.190014, -118.181024], [30.419844, -91.084567], [35.27361, -80.83943], [47.018911, -114.653781], [29.92267, -81.413873], [42.42964, -87.93811], [37.608711, -122.068184], [39.57754, -77.88099], [37.448906, -77.423058], [28.429284, -81.404641], [38.010708, -122.017546], [30.45633, -90.95153], [28.828307, -81.326755], [38.596092, -121.409659], [29.86778, -95.40685], [33.960014, -118.280502], [32.71921, -117.09664], [42.31866, -71.05179], [40.7145, -111.82831], [38.480831, -121.371809], [33.49497, -112.16028], [38.323262, -122.025414], [45.279512, -93.00353], [43.2455, -77.634594], [28.321123, -81.39129], [37.38172, -121.90265], [34.161202, -118.469771], [26.054259, -80.162419], [39.486569, -76.245578], [41.88921, -87.92061], [34.699536, -82.466373], [33.425686, -80.122178], [35.32224, -80.64843], [40.13784, -75.21234], [33.705, -112.11595], [33.688448, -117.334467], [37.668957, -122.109386], [38.493422, -85.771239], [30.476522, -81.644882], [40.78827, -73.79059], [38.300517, -77.503577], [32.249205, -110.847897], [30.212714, -97.830968], [29.48459, -98.55917], [27.467512, -82.575397], [35.78501, -78.68703], [33.71409, -84.235943], [38.25165, -85.63999], [39.31029, -76.62401], [41.670656, -73.763522], [41.736222, -72.664596], [39.874759, -75.096627], [37.420208, -77.636384], [40.24848, -75.34577], [35.483962, -82.558361], [41.94201, -87.71544], [33.993405, -117.905133], [35.088532, -85.161798], [25.775899, -80.199659], [45.49741, -122.57874], [40.886574, -74.068504], [25.969199, -80.165636], [39.232188, -76.649347], [33.8908, -118.36132], [34.350212, -117.439438], [37.978119, -122.295218], [46.942359, -103.823665], [26.666804, -81.880043], [30.530443, -87.087185], [44.85995, -93.24729], [25.928366, -80.153237], [39.86871, -75.10209], [45.498058, -94.246137], [39.90371, -82.90334], [35.25256, -118.878342], [37.70139, -121.89284], [38.867172, -77.317668], [33.647035, -117.746368], [39.76005, -104.82754], [34.02635, -117.56704], [26.272915, -81.74602], [28.451364, -82.4521], [38.343925, -122.497811], [30.439645, -91.200141], [26.13619, -80.18651], [38.65825, -94.36735], [35.885143, -78.568208], [25.626145, -80.41645], [32.83691, -97.02355], [40.98735, -73.68024], [37.993242, -122.073397], [34.034017, -118.026972], [25.82801, -80.241067], [33.919877, -84.30437], [45.0103, -93.186627], [33.964275, -118.120211], [37.808253, -122.366974], [43.95519, -92.18105], [47.202495, -122.461279], [39.38501, -76.524249], [25.933377, -80.252689], [45.276572, -93.737973], [34.529042, -112.241827], [43.185071, -77.583963], [38.83792, -77.44348], [38.71624, -76.07469], [39.349832, -77.107775], [34.57674, -79.15189], [41.258822, -111.816412], [45.22669, -93.61319], [42.48764, -83.23029], [38.96269, -76.86719], [40.659972, -74.001678], [34.344897, -117.454175], [35.644637, -120.399781], [34.2242, -118.407148], [33.54436, -117.67356], [29.786735, -81.362224], [40.16096, -75.79023], [30.413844, -91.06767], [45.4325, -122.7443], [33.982369, -118.280407], [34.135362, -118.000882], [40.068905, -76.307326], [36.08438, -80.06936], [34.106606, -117.821449], [25.573141, -80.374825], [42.67015, -73.74222], [34.016558, -118.177925], [34.046727, -118.447764], [26.460318, -81.827715], [46.795924, -122.879566], [34.199448, -118.396459], [36.15361, -86.84664], [43.18645, -77.6138], [42.828583, -85.673341], [33.66892, -112.0762], [39.006736, -77.069184], [30.27447, -97.743068], [47.21607, -94.82791], [41.87386, -87.64562], [41.729014, -88.011715], [37.742457, -120.995425], [41.06209, -81.53176], [35.32005, -97.4916], [46.01017, -122.84682], [30.603131, -87.111195], [44.599856, -92.691138], [29.70862, -95.26167], [40.975883, -78.66642], [38.62444, -121.41536], [38.74262, -90.37766], [38.26109, -85.73695], [40.06658, -74.16171], [36.754831, -119.736107], [37.93985, -122.32493], [25.789807, -80.370048], [38.025301, -121.258131], [37.830605, -119.122473], [37.9331, -122.41447], [33.877216, -118.13409], [38.93513, -94.70478], [41.07416, -85.2749], [39.66319, -105.35506], [35.28018, -97.60176], [37.52466, -121.99233], [42.37568, -83.06077], [40.65429, -74.00784], [40.02966, -76.32309], [35.332689, -118.878611], [33.892445, -118.197181], [38.424851, -122.848009], [42.95577, -88.04672], [29.590574, -98.601635], [34.134681, -117.311206], [37.66896, -122.1094], [40.76647, -73.68794], [38.85128, -90.05369], [34.553661, -118.411245], [35.30779, -80.84534], [42.385393, -83.157159], [40.234639, -78.836101], [34.157943, -118.641274], [33.615223, -83.838574], [42.451601, -76.61069], [45.55331, -122.67853], [38.94041, -94.57836], [36.1483, -86.77762], [38.706818, -121.308406], [35.403261, -119.045809], [36.669384, -120.060981], [38.87956, -84.62522], [38.872193, -76.981705], [41.89778, -71.93101], [41.86346, -86.27281], [45.233448, -93.553293], [38.00565, -121.271884], [33.519319, -117.160617], [39.278447, -121.097324], [39.166822, -121.72065], [41.14422, -111.9186], [32.206497, -110.808842], [39.415823, -76.659196], [29.60523, -98.6019], [46.03367, -93.43274], [29.81305, -95.40051], [38.24125, -122.26914], [36.578579, -119.632065], [34.2346, -117.42632], [39.053148, -122.08221], [32.6679, -114.287781], [42.954972, -76.980666], [34.82129, -82.41586], [42.655243, -73.744534], [33.54958, -112.11248], [38.8564, -104.72007], [33.279446, -87.095129], [33.77564, -112.130566], [32.680752, -83.70053], [29.77716, -95.5628], [41.809214, -88.077404], [41.598573, -87.170632], [45.477337, -94.034027], [34.676155, -80.721399], [32.64365, -85.35136], [34.036929, -118.316288], [40.776781, -73.92439], [35.79035, -78.73965], [30.400618, -97.746251], [36.07192, -86.63622], [29.623571, -95.525962], [33.98915, -118.280795], [40.458265, -78.395058], [39.949532, -74.11747], [40.91085, -74.54334], [32.42155, -85.04039], [34.488049, -120.226147], [38.61335, -90.21807], [34.154384, -118.386175], [29.82627, -95.47618], [43.93268, -91.93446], [35.475658, -118.724344], [32.242683, -110.943945], [41.989891, -87.747583], [38.538242, -121.473675], [41.18376, -95.93931], [34.219167, -119.069722], [35.09563, -80.87581], [33.374949, -117.561188], [38.783311, -77.178608], [37.25944, -121.95297], [37.74146, -121.57978], [37.528894, -77.414299], [34.145303, -118.368319], [39.684641, -104.949029], [34.083675, -81.138269], [32.78847, -117.1483], [37.81917, -122.25381], [35.27149, -80.97303], [43.03025, -71.35481], [25.701238, -80.334038], [39.10158, -84.52348], [33.957334, -118.087631], [40.705751, -73.461037], [26.456826, -80.089441], [25.930062, -80.293485], [34.01818, -81.09114], [45.286277, -93.002926], [41.70129, -71.47436], [32.7309, -96.757847], [32.93044, -96.75804], [34.501105, -82.68365], [32.332013, -95.302698], [35.80268, -78.59364], [37.78992, -121.295], [39.241029, -76.59242], [37.604645, -119.966057], [38.18923, -85.80128], [43.08, -115.60842], [28.49385, -81.45884], [30.459948, -81.67748], [33.922501, -118.27786], [37.891907, -81.185771], [33.84376, -118.20603], [37.30646, -120.77911], [41.31738, -81.51345], [40.72463, -74.09137], [39.642999, -77.636225], [33.03406, -116.85785], [38.549401, -121.4738], [37.61535, -120.98157], [35.77811, -80.86377], [45.8857, -119.29718], [32.20677, -110.9801], [30.17598, -81.55899], [27.937788, -82.293042], [35.09856, -80.951576], [45.540465, -122.671269], [34.034725, -117.974474], [33.87275, -118.27013], [39.039512, -94.345987], [40.003267, -75.222139], [33.8764, -118.07711], [41.72867, -87.54285], [38.670748, -77.25293], [34.299242, -118.419515], [25.928514, -80.188274], [37.484, -79.66861], [39.78494, -84.18465], [37.52983, -122.00208], [38.637218, -121.383083], [35.228609, -80.846805], [35.152107, -85.319999], [25.943271, -80.181217], [29.714176, -95.278341], [38.671456, -90.361937], [32.800478, -96.823012], [32.806936, -96.688878], [32.271549, -110.99503], [25.768929, -80.357161], [30.18181, -97.77623], [39.95514, -75.147374], [30.47792, -91.16592], [28.149111, -82.695809], [35.164468, -80.876087], [39.839981, -79.322698], [46.696239, -92.360397], [34.613538, -92.50985], [45.06653, -93.16941], [27.998725, -82.453851], [47.55359, -122.67092], [43.61953, -116.351918], [44.188397, -94.023638], [34.36518, -118.50363], [35.75159, -78.7013], [37.240895, -121.777047], [32.14872, -110.97757], [34.24973, -117.442178], [33.19336, -117.24638], [43.068, -119.97558], [45.52549, -122.66531], [27.821094, -82.677818], [38.048814, -121.016666], [33.948133, -118.101127], [41.07131, -73.48294], [30.018424, -90.051444], [34.465399, -118.406781], [25.882785, -80.245746], [36.826761, -112.254148], [33.92435, -118.281422], [25.926733, -80.293339], [28.65474, -81.509191], [39.998549, -75.232173], [28.87614, -81.28299], [32.82009, -96.628987], [40.019486, -75.147069], [30.40018, -97.67407], [45.269897, -93.007958], [40.19997, -76.42104], [33.925239, -117.880042], [43.17731, -85.272468], [30.265907, -97.735008], [34.91566, -82.183246], [42.239931, -87.871695], [26.65192, -81.79921], [40.09193, -74.21668], [36.116094, -86.791768], [44.007421, -92.482277], [42.448974, -78.48142], [41.20482, -111.99184], [34.068939, -117.37025], [38.219106, -122.134064], [34.859982, -82.461944], [34.08363, -117.69406], [37.296148, -119.648762], [27.94037, -82.32598], [29.77135, -95.32992], [40.33812, -79.69223], [35.207453, -80.757924], [37.63404, -122.10569], [33.928946, -118.229917], [26.057327, -80.162333], [32.687761, -117.15542], [41.08582, -81.5193], [43.147249, -77.71059], [32.741343, -96.824512], [40.73852, -73.80653], [32.19177, -86.11733], [31.77307, -106.35601], [37.42019, -121.8822], [35.764242, -119.249628], [36.959418, -121.551064], [37.874877, -121.34239], [37.88921, -122.17534], [25.905339, -80.292387], [26.226736, -80.136283], [41.59395, -93.59529], [35.778564, -78.721541], [33.109476, -80.131259], [40.79566, -73.82557], [30.95715, -85.162335], [42.45735, -83.09771], [38.18405, -83.55066], [42.63076, -73.77942], [37.141823, -93.296155], [32.841321, -117.101758], [38.56363, -121.34154], [35.821049, -78.623406], [40.65993, -111.95277], [33.9102, -84.36613], [37.698419, -121.361207], [41.228156, -73.245335], [33.776785, -84.605455], [29.316, -98.59212], [42.27807, -83.154], [42.991925, -82.451126], [40.59405, -74.23184], [38.16752, -122.20299], [45.53613, -122.693349], [40.72437, -73.28698], [38.496176, -121.451156], [33.98923, -118.07019], [37.46159, -121.17825], [33.89567, -84.25314], [41.063901, -73.976837], [36.15225, -86.62504], [41.767519, -72.658156], [34.056007, -118.212892], [38.044871, -78.902016], [41.85886, -88.10262], [45.750795, -123.195983], [30.4256, -91.07121], [41.71513, -87.63004], [29.822386, -95.33507], [37.015813, -120.124834], [40.705965, -73.461059], [37.538448, -77.438904], [37.459238, -122.138616], [37.079148, -80.771686], [42.398169, -122.190895], [44.945014, -122.99013], [43.013437, -77.818297], [34.190365, -118.940895], [40.70358, -74.15262], [38.459626, -77.409528], [42.36147, -83.07294], [32.71325, -117.141568], [37.526167, -77.838372], [30.47345, -87.30701], [28.190917, -82.39655], [35.83966, -78.676591], [47.58854, -122.32906], [33.825153, -118.218579], [37.546564, -121.196344], [41.67545, -72.53909], [37.770945, -122.447131], [37.4362, -77.43891], [41.90561, -87.66119], [32.27574, -90.199833], [44.326629, -95.919991], [42.91995, -85.6331], [35.214999, -80.774857], [34.09369, -118.25607], [41.12165, -112.06453], [47.623655, -94.725222], [37.405861, -122.013462], [34.121979, -118.340231], [25.641617, -80.335079], [44.52636, -93.0092], [36.03291, -115.01846], [40.65148, -73.5662], [29.591083, -83.010549], [28.417676, -81.422934], [39.266204, -76.560673], [37.39059, -79.90577], [26.63, -81.8042], [33.97382, -118.07971], [34.139713, -117.24509], [43.729938, -71.657632], [34.735538, -92.397915], [37.380549, -121.958457], [27.713743, -82.335267], [34.004075, -118.173033], [40.00754, -75.20121], [36.90694, -76.89365], [33.77927, -118.20711], [40.73529, -73.85987], [34.66011, -86.48369], [25.846146, -80.240804], [47.35486, -122.29626], [40.70245, -73.81647], [40.55771, -111.42573], [32.88421, -96.69716], [26.384122, -80.107715], [33.74351, -84.37566], [40.500189, -77.74023], [45.50656, -122.77036], [42.476804, -88.109151], [35.886161, -78.525899], [35.064514, -80.764974], [39.977545, -86.391157], [40.061956, -76.345549], [33.859729, -118.307619], [32.967986, -96.919426], [33.474408, -112.112957], [34.014156, -118.04569], [40.465703, -122.30518], [33.741255, -84.410673], [40.171718, -75.074066], [34.15542, -118.40082], [36.805771, -119.88368], [44.886197, -123.959907], [37.740676, -121.504185], [33.77453, -117.90223], [34.03449, -118.17702], [43.65873, -93.09162], [37.19777, -76.49256], [38.93151, -94.70475], [39.87312, -74.92185], [32.475219, -85.030251], [38.82151, -80.66676], [26.65193, -80.12061], [39.883514, -75.103708], [39.74005, -104.98358], [32.710577, -117.147727], [36.079005, -80.230352], [35.767724, -78.622259], [40.583693, -73.984979], [27.89443, -82.75217], [32.691332, -96.845952], [39.630565, -122.006841], [41.86175, -87.64454], [33.08798, -117.30068], [34.0319, -118.417993], [45.46232, -122.86754], [37.015589, -76.453717], [40.73272, -73.84349], [41.022965, -73.615755], [38.010287, -122.542092], [29.84751, -95.3941], [41.53906, -81.63455], [38.055372, -78.581842], [41.70615, -72.645045], [25.810617, -80.141916], [25.784024, -80.23499], [40.26192, -74.842504], [32.274082, -95.306746], [33.956409, -118.253993]],\n",
       "                {&quot;blur&quot;: 15, &quot;maxZoom&quot;: 18, &quot;minOpacity&quot;: 0.5, &quot;radius&quot;: 25}\n",
       "            );\n",
       "        \n",
       "    \n",
       "            heat_map_c32ddbbcd79d7ebb970ccc625e115942.addTo(map_d9d488d3c353c9d0cc453268022f9f73);\n",
       "        \n",
       "&lt;/script&gt;\n",
       "&lt;/html&gt;\" style=\"position:absolute;width:100%;height:100%;left:0;top:0;border:none !important;\" allowfullscreen webkitallowfullscreen mozallowfullscreen></iframe></div></div>"
      ],
      "text/plain": [
       "<folium.folium.Map at 0x25b8ae6c690>"
      ]
     },
     "execution_count": 79,
     "metadata": {},
     "output_type": "execute_result"
    }
   ],
   "source": [
    "map = folium.Map()\n",
    "HeatMap(lat_lon_pairs).add_to(map)\n",
    "map"
   ]
  },
  {
   "cell_type": "markdown",
   "id": "226de7fe",
   "metadata": {
    "id": "0Idfi8K1xY8S",
    "papermill": {
     "duration": 0.043797,
     "end_time": "2024-01-27T18:58:29.999148",
     "exception": false,
     "start_time": "2024-01-27T18:58:29.955351",
     "status": "completed"
    },
    "tags": []
   },
   "source": [
    "## Summary and Conclusion\n",
    "\n",
    "Insights:\n",
    "- No Data from New York\n",
    "- The Number of accidents per city decreases exponentialy\n",
    "- Less than 9% Cities have more than 1000 Accidents Yearly\n",
    "- Over 1000 cities have reported just one accident(need to investigate)"
   ]
  }
 ],
 "metadata": {
  "colab": {
   "provenance": []
  },
  "kaggle": {
   "accelerator": "none",
   "dataSources": [
    {
     "datasetId": 199387,
     "sourceId": 5793796,
     "sourceType": "datasetVersion"
    }
   ],
   "dockerImageVersionId": 30587,
   "isGpuEnabled": false,
   "isInternetEnabled": true,
   "language": "python",
   "sourceType": "notebook"
  },
  "kernelspec": {
   "display_name": "Python 3 (ipykernel)",
   "language": "python",
   "name": "python3"
  },
  "language_info": {
   "codemirror_mode": {
    "name": "ipython",
    "version": 3
   },
   "file_extension": ".py",
   "mimetype": "text/x-python",
   "name": "python",
   "nbconvert_exporter": "python",
   "pygments_lexer": "ipython3",
   "version": "3.11.4"
  },
  "papermill": {
   "default_parameters": {},
   "duration": 278.274707,
   "end_time": "2024-01-27T18:58:32.957452",
   "environment_variables": {},
   "exception": null,
   "input_path": "__notebook__.ipynb",
   "output_path": "__notebook__.ipynb",
   "parameters": {},
   "start_time": "2024-01-27T18:53:54.682745",
   "version": "2.4.0"
  }
 },
 "nbformat": 4,
 "nbformat_minor": 5
}
